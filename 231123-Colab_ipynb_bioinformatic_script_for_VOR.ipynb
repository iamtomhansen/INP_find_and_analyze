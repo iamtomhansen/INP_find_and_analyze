{
  "nbformat": 4,
  "nbformat_minor": 0,
  "metadata": {
    "colab": {
      "provenance": []
    },
    "kernelspec": {
      "name": "python3",
      "display_name": "Python 3"
    },
    "language_info": {
      "name": "python"
    }
  },
  "cells": [
    {
      "cell_type": "markdown",
      "source": [
        "# Script used to analyze ice nucleation protein (INP) sequences\n",
        "This was used to generate and analyze a dataset for our publication in eLife (2023):\n",
        "\n",
        "[Ice nucleation proteins self-assemble into large fibres to trigger freezing at near 0 ℃ (reviewed preprint link)](https://elifesciences.org/reviewed-preprints/91976/reviews)\n",
        "\n",
        "I never intended to share this publicly, but it was requested before publication of the work. This is not the most elegant code, but it works for what I made it to do. Please use/adapt freely, but do so at your own risk!\n",
        "\n",
        "Authored by me (Thomas Hansen)."
      ],
      "metadata": {
        "id": "m-vhb8GNR03B"
      }
    },
    {
      "cell_type": "code",
      "execution_count": null,
      "metadata": {
        "colab": {
          "base_uri": "https://localhost:8080/"
        },
        "id": "ZrvRCPcOm06m",
        "outputId": "6beb8bde-1559-4012-e67e-86d409003fee",
        "cellView": "form"
      },
      "outputs": [
        {
          "output_type": "stream",
          "name": "stdout",
          "text": [
            "Looking in indexes: https://pypi.org/simple, https://us-python.pkg.dev/colab-wheels/public/simple/\n",
            "Collecting Biopython\n",
            "  Downloading biopython-1.81-cp38-cp38-manylinux_2_17_x86_64.manylinux2014_x86_64.whl (3.1 MB)\n",
            "\u001b[2K     \u001b[90m━━━━━━━━━━━━━━━━━━━━━━━━━━━━━━━━━━━━━━━━\u001b[0m \u001b[32m3.1/3.1 MB\u001b[0m \u001b[31m31.8 MB/s\u001b[0m eta \u001b[36m0:00:00\u001b[0m\n",
            "\u001b[?25hRequirement already satisfied: numpy in /usr/local/lib/python3.8/dist-packages (from Biopython) (1.21.6)\n",
            "Installing collected packages: Biopython\n",
            "Successfully installed Biopython-1.81\n",
            "Mounted at /content/drive\n"
          ]
        }
      ],
      "source": [
        "#@title 0. Dependencies and set-up\n",
        "\n",
        "# Biopython from PyPi, used for BLAST and Entrez API\n",
        "!pip install Biopython\n",
        "from Bio import Entrez\n",
        "# Include e-mail in case NCBI thinks you're being bad, per https://www.ncbi.nlm.nih.gov/books/NBK25497/#chapter2.chapter2_table1\n",
        "# \"The value of email will be used only to contact developers if NCBI observes requests that violate our policies, and we will attempt such contact prior to blocking access.\"\n",
        "# API key raises queries from 3 to 10 per second\n",
        "Entrez.email = 'youremail@server.com' #@param {type:\"string\"}\n",
        "Entrez.api_key = '36-digit hexadecimal key' #@param {type:\"string\"}\n",
        "\n",
        "from IPython.display import clear_output\n",
        "from tqdm import tqdm\n",
        "\n",
        "#@markdown ⚠NOTE⚠: This script mounts your GoogleDrive and saves files to it!\n",
        "from google.colab import drive\n",
        "drive.mount('/content/drive')"
      ]
    },
    {
      "cell_type": "code",
      "source": [
        "#@title 1. BLAST\n",
        "\"\"\"\n",
        "setup/input/read\n",
        "\"\"\"\n",
        "import glob\n",
        "from Bio.Blast import NCBIWWW\n",
        "from lxml import etree\n",
        "from datetime import datetime\n",
        "\n",
        "#@markdown Upload previous BLAST .xml file (new_BLAST = False) or do a new BLAST (new_BLAST = True). If False, will use the first .xml file found!\n",
        "new_BLAST = True #@param [\"False\", \"True\"] {type:\"raw\"}\n",
        "#@markdown If True:\n",
        "\n",
        "#@markdown query sequence:\n",
        "input = 'AGYGSTQTAGEDSSLT' #@param {type:\"string\"}\n",
        "if input is None:\n",
        "  raise ValueError()\n",
        "input_type = 'protein' #@param [\"protein\", \"nucleotide\", \".fasta\"]\n",
        "\n",
        "if input_type == '.fasta':\n",
        "  with open(f'{input}.fasta') as input_handle:\n",
        "    try:\n",
        "      input_string = input_handle.read()\n",
        "      # TO DO: assign nucleotide or protein based on the FASTA?\n",
        "    except:\n",
        "      raise()\n",
        "      # handle error for not being able to read the FASTA\n",
        "else:\n",
        "  input_string = input\n",
        "\n",
        "blast_program = 'blastp' #@param [\"blastn\", \"blastp\", \"blastx\", \"tblastn\"]\n",
        "save_as = '' #@param {type:\"string\"}\n",
        "if save_as == '':\n",
        "  save_as = f'{datetime.now().strftime(\"%y%m%d\")}-blast'\n",
        "\n",
        "matrix_type = 'PAM30' #@param [\"BLOSUM90\", \"BLOSUM80\", \"BLOSUM62\", \"BLOSUM50\", \"BLOSUM45\", \"PAM250\", \"PAM70\", \"PAM30\"]\n",
        "num_results = 5000 #@param {type:\"slider\", min:1, max:5000, step:1}\n",
        "# PAM30 is a shallower matrix for better identity https://www.ncbi.nlm.nih.gov/pmc/articles/PMC3848038/\n",
        "\n",
        "db_dict = {'blastn':'nt',\n",
        "           'blastp':'nr',\n",
        "           'blastx':'nr',\n",
        "           'tblastn':'nt'}\n",
        "\n",
        "if new_BLAST == True:\n",
        "  print(datetime.now(), 'Starting BLAST')\n",
        "  blast_handle = NCBIWWW.qblast(program=blast_program, \\\n",
        "                                database=db_dict[blast_program], \\\n",
        "                                sequence=input_string, \\\n",
        "                                short_query=True, \\\n",
        "                                matrix_name=matrix_type, \\\n",
        "                                gapcosts='9 1', \\\n",
        "                                descriptions=num_results, \\\n",
        "                                alignments=num_results, \\\n",
        "                                hitlist_size=num_results)\n",
        "  print(datetime.now(), 'Finished BLAST')\n",
        "  # Write the result to disk. Also, the .read() method from qblast can only be done once!\n",
        "  with open(f'{save_as}.xml', 'w') as out_handle:\n",
        "    out_handle.write(blast_handle.read())\n",
        "    print(datetime.now(), f'BLAST results saved as {save_as}.xml')\n",
        "  blast_handle.close()\n",
        "\n",
        "try:\n",
        "  filename = glob.glob('*.xml')[0]\n",
        "  print(datetime.now(), f'Using {filename} as BLAST results')\n",
        "except:\n",
        "  print(datetime.now(), 'No .xml file detected!')"
      ],
      "metadata": {
        "colab": {
          "base_uri": "https://localhost:8080/"
        },
        "cellView": "form",
        "id": "bQBzgNycm4kj",
        "outputId": "8c63b2f8-4b69-4303-afd6-99f71bf1c889"
      },
      "execution_count": null,
      "outputs": [
        {
          "output_type": "stream",
          "name": "stdout",
          "text": [
            "2023-02-16 17:17:33.022052 Starting BLAST\n",
            "2023-02-16 17:20:19.233379 Finished BLAST\n",
            "2023-02-16 17:20:19.490539 BLAST results saved as 230216-blast.xml\n",
            "2023-02-16 17:20:19.505360 Using 230216-blast.xml as BLAST results\n"
          ]
        }
      ]
    },
    {
      "cell_type": "code",
      "source": [
        "#@title 2. Get all accession numbers for BLAST hits (filtered by number of identities to input)\n",
        "\n",
        "#@markdown Exact positional identities required for inclusion (0 to keep all results):\n",
        "identity_threshold = 10 #@param {type:\"integer\"}\n",
        "\"\"\"\n",
        "Parsing BLAST results\n",
        "\"\"\"\n",
        "\n",
        "import re\n",
        "import glob\n",
        "import pandas as pd\n",
        "from datetime import datetime\n",
        "\n",
        "# get all accession id's from the BLAST, grouped by Hit number\n",
        "# each hit can contain many accession numbers if they are identical!\n",
        "# often they are unique sequencing projects that gave identical results\n",
        "# it is valuable to know how many times a given sequence has been found\n",
        "\n",
        "def ids_after_pipes(hit_text):\n",
        "  # regex: lookbehind to |, then include alphanumeric up to the first dot, then the dot plus a single trailing character\n",
        "  return re.findall('(?<=\\|)[\\w]+[\\.\\w]*',hit_text)\n",
        "\n",
        "def blast_table_data(filename):\n",
        "  with open(filename) as blast_handle:\n",
        "    xml = blast_handle.read()\n",
        "  root = etree.fromstring(xml)\n",
        "\n",
        "  blast_results = []\n",
        "  for hit in root.findall('.//Hit'):\n",
        "    hit_num = hit.findtext('.//Hit_num')\n",
        "    identities = int(hit.findtext('.//Hsp_identity'))\n",
        "    # uses only the first (top scoring) HSP's identities for now\n",
        "    if identities >= identity_threshold:\n",
        "      hit_accessions = hit.findtext('Hit_def' if db_dict[blast_program] == 'nr' else 'Hit_id')\n",
        "      e_value = hit.findtext('.//Hsp_evalue')\n",
        "      for accession in ids_after_pipes(hit_accessions):\n",
        "        blast_results.append((hit_num, accession, e_value, identities))\n",
        "  return blast_results\n",
        "\n",
        "try:\n",
        "  filename = glob.glob('*.xml')[0]\n",
        "except:\n",
        "  print(datetime.now(), 'No .xml file detected!')\n",
        "\n",
        "df_blast = pd.DataFrame(blast_table_data(filename),\n",
        "                          columns=['Hit_num','Accession','E-value','Identities'])\n",
        "\n",
        "# blast_table.to_parquet(f'{datetime.today().strftime(\"%y%m%d\")}-blast_table.parquet')\n",
        "print(datetime.now(), len(df_blast.index),'sequences that match at >=',identity_threshold,'positions')"
      ],
      "metadata": {
        "colab": {
          "base_uri": "https://localhost:8080/"
        },
        "cellView": "form",
        "id": "sC10ZIDuouwJ",
        "outputId": "dd031d0e-6d17-4170-e1a0-1185c7311a6d"
      },
      "execution_count": null,
      "outputs": [
        {
          "output_type": "stream",
          "name": "stdout",
          "text": [
            "2023-02-16 17:20:49.651134 1042 sequences that match at >= 10 positions\n"
          ]
        }
      ]
    },
    {
      "cell_type": "code",
      "source": [
        "# TO DO: Can I use a wrapper or decorator to combine all these Entrez utils?\n",
        "#@title 3a. Define NCBI data scraping functions\n",
        "\n",
        "import requests\n",
        "from Bio import Entrez\n",
        "\n",
        "def efetch_accession(id, db, rettype=\"gb\"):\n",
        "  # Check if a record has already been fetched. If not, fetch! Then return xml tree\n",
        "  # TO DO: Add some option to disable downloads and use only local files\n",
        "  id = id.split('.')[0]\n",
        "  filename = f\"/content/drive/MyDrive/efetch/{db}/{id}.xml\"\n",
        "  try:\n",
        "    with open(filename) as entrez_handle:\n",
        "      # print(datetime.now(), f\"efetch_accession: {id}.xml locally\")\n",
        "      tree = etree.parse(entrez_handle)\n",
        "  except:\n",
        "    print(datetime.now(), f\"efetch_accession: {id}.xml from NCBI\")\n",
        "    entrez_handle = Entrez.efetch(id=id, db=db, rettype=rettype, retmode = \"xml\")\n",
        "    tree = etree.parse(entrez_handle)\n",
        "    entrez_handle.close()\n",
        "    tree.write(filename)\n",
        "  return tree\n",
        "\n",
        "def elink_by_linkname(id, linkname):\n",
        "  id = id.split('.')[0]\n",
        "  dbfrom = linkname.split(\"_\")[0]\n",
        "  db = linkname.split(\"_\")[1]\n",
        "  filename = f\"/content/drive/MyDrive/elink/{linkname}/{id}_elink.xml\"\n",
        "  try:\n",
        "    with open(filename) as entrez_handle:\n",
        "      # print(datetime.now(), f\"Elink from id: {filename} locally\")\n",
        "      tree = etree.parse(entrez_handle)\n",
        "  except:\n",
        "    # print(datetime.now(), f\"Elink from id: {filename} from NCBI\")\n",
        "    entrez_handle = Entrez.elink(id=id, dbfrom=dbfrom, db=db, linkname=linkname, retmode=\"xml\")\n",
        "    tree = etree.parse(entrez_handle)\n",
        "    entrez_handle.close()\n",
        "    tree.write(filename)\n",
        "  return tree\n",
        "\n",
        "def esummary_from_id(id, db):\n",
        "  id = id.split('.')[0]\n",
        "  filename = f\"/content/drive/MyDrive/esummary/{db}/{id}_esummary.xml\"\n",
        "  try:\n",
        "    with open(filename) as entrez_handle:\n",
        "      # print(datetime.now(), f\"Esummary from id: {filename} locally\")\n",
        "      tree = etree.parse(entrez_handle)\n",
        "  except:\n",
        "    # print(datetime.now(), f\"Esummary from id: Downloading {filename} from NCBI\")\n",
        "    entrez_handle = Entrez.esummary(id = id, db = db, version=\"2.0\", retmode=\"xml\")\n",
        "    tree = etree.parse(entrez_handle)\n",
        "    entrez_handle.close()\n",
        "    tree.write(filename)\n",
        "  return tree\n",
        "\n",
        "def get_assembly_rpt(url, id):\n",
        "  id = id.split('.')[0]\n",
        "  filename = f\"/content/drive/MyDrive/assembly_rpt/{id}_rpt.txt\"\n",
        "  try:\n",
        "    with open(filename) as report_handle:\n",
        "      # print(datetime.now(), f\"Get_assembly_rpt: {filename} locally\")\n",
        "      assembly_rpt = report_handle.read()\n",
        "  except:\n",
        "    try:\n",
        "      assembly_rpt_get = requests.get(url)\n",
        "      try:\n",
        "        with open(filename, \"w\") as out_handle:\n",
        "          out_handle.write(assembly_rpt_get.text)\n",
        "        assembly_rpt = assembly_rpt_get.text\n",
        "        # print(datetime.now(), f\"Get_aseembly_rpt: downloading {filename} from NCBI\")\n",
        "      except:\n",
        "        print(datetime.now(), f\"get_assembly_rpt: Couldn't write {filename}\")\n",
        "        return None\n",
        "    except:\n",
        "      print(datetime.now(), f\"get_assembly_rpt: Couldn't get {id} from {url}\")\n",
        "      return None\n",
        "  return assembly_rpt\n",
        "\n",
        "def text_from_assembly_rpt(report, *tags):\n",
        "  # Gets data from plaintext assembly reports on NCBI\n",
        "  report_text = {}\n",
        "  for tag in tags:\n",
        "    for line in report.splitlines():\n",
        "      if tag in line:\n",
        "        report_text[tag] = (line.replace(f\"# {tag}:\",\"\").lstrip(' '))\n",
        "        break\n",
        "    # If all lines are scanned without finding the tag, give an empty value. Probably faster than a while loop?\n",
        "    if tag not in report_text.keys():\n",
        "      # print(datetime.now(), f\"No {tag} for {assembly_rpt.splitlines()[0]}\")\n",
        "      report_text[tag] = \"\"\n",
        "  return report_text"
      ],
      "metadata": {
        "cellView": "form",
        "id": "V_GiO3Bsqxds"
      },
      "execution_count": null,
      "outputs": []
    },
    {
      "cell_type": "code",
      "source": [
        "#@title 3b. Get protein data for each accession from BLAST\n",
        "protein_data = {}\n",
        "genbank_tags = ['GBSeq_accession-version','GBSeq_length','GBSeq_update-date','GBSeq_create-date','GBSeq_definition','GBSeq_project','GBSeq_organism','GBSeq_sequence']\n",
        "\n",
        "for acc in tqdm(df_blast['Accession'], desc='Protein data from Efetch'):\n",
        "  tree = efetch_accession(acc,\"protein\")\n",
        "\n",
        "  acc_data = []\n",
        "  for tag in genbank_tags:\n",
        "    acc_data.append(tree.findtext('.//' + tag))\n",
        "  protein_data[acc] = acc_data\n",
        "\n",
        "df_proteins = pd.DataFrame.from_dict(protein_data, orient='index', columns=genbank_tags)\n",
        "df_proteins = df_proteins.rename(columns={'GBSeq_accession-version' : 'Accession'})\n",
        "# df_proteins.to_parquet(f'{datetime.now().strftime(\"%y%m%d\")}-proteins.parquet')"
      ],
      "metadata": {
        "colab": {
          "base_uri": "https://localhost:8080/"
        },
        "cellView": "form",
        "id": "TnJo3iHf7r9h",
        "outputId": "05311d40-4862-460a-e87b-373f5f86549b"
      },
      "execution_count": null,
      "outputs": [
        {
          "output_type": "stream",
          "name": "stderr",
          "text": [
            "Protein data from Efetch: 100%|██████████| 1042/1042 [03:42<00:00,  4.68it/s]\n"
          ]
        }
      ]
    },
    {
      "cell_type": "code",
      "source": [
        "#@title 4a. Define tandem array parsing functions\n",
        "#@title New coil counter\n",
        "\n",
        "#@markdown (leave blank to use BLAST input)\n",
        "repeat = '' #@param {type: \"string\"}\n",
        "if repeat == '':\n",
        "  repeat = input_string\n",
        "repeat = repeat.upper()\n",
        "\n",
        "# brute force-ish for finding region of CONTINUOUS, UNGAPPED tandem repeats\n",
        "def pairwise_identities(sequence, repeat):\n",
        "  sequence = sequence.upper()\n",
        "  matches = 0\n",
        "  for j, k in zip(repeat, sequence):\n",
        "    if j == k:\n",
        "      matches += 1\n",
        "  return matches\n",
        "\n",
        "def find_repeats_start(sequence, repeat, threshold, start = 0):\n",
        "  sequence = sequence[start:].upper()\n",
        "  if start > 0:\n",
        "    print(sequence)\n",
        "  first_repeat = None\n",
        "  for i in range(len(sequence)):\n",
        "    matches = pairwise_identities(sequence[i:i+len(repeat)], repeat)\n",
        "    # requiring the Y in the first repeat for INPs is a little hack-y but it works\n",
        "    if matches >= threshold and sequence[i+2] == 'Y':\n",
        "      first_repeat = i\n",
        "      # false positives: check to see if it's matching a partial repeat\n",
        "      if pairwise_identities(sequence[i+8:i+len(repeat)], repeat) > matches:\n",
        "        first_repeat = i+8\n",
        "        print('Frame shift +8 for', sequence)\n",
        "      break\n",
        "  return first_repeat\n",
        "\n",
        "def find_repeats_end(sequence, repeat, threshold, start):\n",
        "  sequence = sequence.upper()\n",
        "  for i in range(start, len(sequence), len(repeat)):\n",
        "    matches = pairwise_identities(sequence[i:i+len(repeat)], repeat)\n",
        "    if matches >= threshold:\n",
        "      continue\n",
        "    else:\n",
        "      return i\n",
        "  return 0\n",
        "\n",
        "def find_r_coil_start(repeat_list):\n",
        "  consecutive_r = 0\n",
        "  r_start = 0\n",
        "  for i, repeat in enumerate(repeat_list):\n",
        "    if repeat[11] in {'R','K'}:\n",
        "      if r_start == 0:\n",
        "        r_start = i\n",
        "      if repeat[11] == 'R':\n",
        "        consecutive_r += 2\n",
        "      elif repeat[11] == 'K':\n",
        "        consecutive_r += 1\n",
        "    else:\n",
        "      consecutive_r = max(0, consecutive_r-1)\n",
        "      if consecutive_r == 0:\n",
        "        r_start = 0\n",
        "    if consecutive_r >= 4:\n",
        "      # prevent false positives: check if Y-ladder is gone. if not, reset, keep looking\n",
        "      if repeat[2] != 'Y':\n",
        "        return r_start\n",
        "      else:\n",
        "        consecutive_r = 0\n",
        "  return len(repeat_list)\n",
        "\n",
        "def split_tandem_array(repeat_sequence, size):\n",
        "  tandem_array = []\n",
        "  # print(sequence,\"length\",len(sequence),\"\\n size:\",size,\"mod:\",len(sequence)%size)\n",
        "  for i in range(0, len(repeat_sequence), size):\n",
        "    tandem_array.append(repeat_sequence[i:i+size].upper())\n",
        "  return tandem_array"
      ],
      "metadata": {
        "id": "yV35tlCV8eay",
        "cellView": "form"
      },
      "execution_count": null,
      "outputs": []
    },
    {
      "cell_type": "code",
      "source": [
        "#@title 4b. Parse tandem arrays\n",
        "# TO DO: could switch from index-based to sequence-based indexing since duplicate sequences exist from BLAST\n",
        "def parse_tandem_arrays(seq_series):\n",
        "  partitioned_sequences = {}\n",
        "  for index, sequence in seq_series.items():\n",
        "    first_repeat = find_repeats_start(sequence, repeat, 8)\n",
        "    if first_repeat is None:\n",
        "      partitioned_sequences[index] = [sequence,'','','']\n",
        "      continue\n",
        "    final_repeat = find_repeats_end(sequence, repeat, 5, first_repeat)\n",
        "    repeats = split_tandem_array(sequence[first_repeat:final_repeat], len(repeat))\n",
        "    # to do: checking for false positives\n",
        "    # probably means mapping out a number of residues that match the motif\n",
        "    # getting the longest chain on the map separated by the repeat length\n",
        "    r_coil_start = find_r_coil_start(repeats)\n",
        "    # if r-coils aren't found, it's usually a \"frameshift\" by 8 residues. Could account for it.\n",
        "    # if r_coil_start == len(repeats):\n",
        "    #   if find_repeats_end(sequence, repeat, 5, first_repeat+8) > final_repeat:\n",
        "    #     print(\"frameshift for\",index,\",previous final_repeat:\",final_repeat,\"new:\",find_repeats_end(sequence, repeat, 5, first_repeat+8))\n",
        "    #     repeats = split_tandem_array(sequence[first_repeat+8:final_repeat+8], len(repeat))\n",
        "    #     print(\"r_coil_start before:\",r_coil_start)\n",
        "    #     r_coil_start = find_r_coil_start(repeats)\n",
        "    #     print(\"r_coil_start after:\",r_coil_start)\n",
        "    partitioned_sequences[index] = [sequence[:first_repeat],\n",
        "                                    repeats[:r_coil_start],\n",
        "                                    repeats[r_coil_start:],\n",
        "                                    sequence[final_repeat:],\n",
        "                                    ]\n",
        "  # if cterm is way too long or too short, try a different threshold?\n",
        "  return pd.DataFrame.from_dict(partitioned_sequences, orient='index', columns=[\"nterm\",\"wo_coils\",\"r_coils\",\"cterm\"])\n",
        "\n",
        "df_partitioned_sequences = parse_tandem_arrays(df_proteins['GBSeq_sequence'])\n",
        "df_partitioned_sequences.index.rename('Accession', inplace=True)\n",
        "\n",
        "df_blast_all_proteins = df_blast.merge(df_proteins, how='outer', on='Accession')\n",
        "df_blast_all_proteins = df_blast_all_proteins.merge(df_partitioned_sequences, how='outer', on='Accession')\n",
        "df_blast_all_proteins.to_csv(f'{datetime.today().strftime(\"%y%m%d\")}-blast_and_all_proteins.csv')"
      ],
      "metadata": {
        "id": "GTjT-GbL-nR7",
        "cellView": "form"
      },
      "execution_count": null,
      "outputs": []
    },
    {
      "cell_type": "code",
      "source": [
        "#@title 4c. Merge partitioned sequence to protein data, and prune results\n",
        "minimum_repeat_number = 5 #@param {type:\"integer\"}\n",
        "\n",
        "df_proteins_partitioned = df_proteins.merge(df_partitioned_sequences, left_index=True, right_index=True)\n",
        "\n",
        "# various selection criteria to ensure complete sequence: Must start with Met, must have a C-terminal sequence, must have a minimum number of coils\n",
        "df_proteins_pruned = df_proteins_partitioned[(df_proteins_partitioned['wo_coils'].map(len) >= 5) & \\\n",
        "                                             (df_proteins_partitioned['cterm'].map(len) >= 10) & \\\n",
        "                                             (df_proteins_partitioned['cterm'].map(len) <= 100) & \\\n",
        "                                             (df_proteins_partitioned['r_coils'].map(len) >= 1) & \\\n",
        "                                             (df_proteins_partitioned['nterm'].str[:1] == 'm')]\n",
        "\n",
        "df_proteins_removed = df_proteins_partitioned[~df_proteins_partitioned.index.isin(df_proteins_pruned.index)]\n",
        "print('Kept',len(df_proteins_pruned.index),'proteins')\n",
        "print('Removed',len(df_proteins_removed.index),'proteins')\n",
        "\n",
        "# df_proteins_partitioned.to_parquet(f'{datetime.today().strftime(\"%y%m%d\")}-proteins_partitioned.parquet')\n",
        "# df_proteins_pruned.to_parquet(f'{datetime.today().strftime(\"%y%m%d\")}-proteins_pruned.parquet')\n",
        "df_proteins_pruned.to_csv(f'{datetime.today().strftime(\"%y%m%d\")}-proteins_over5.csv')\n",
        "df_proteins_removed.to_csv(f'{datetime.today().strftime(\"%y%m%d\")}-proteins_under5.csv')"
      ],
      "metadata": {
        "colab": {
          "base_uri": "https://localhost:8080/"
        },
        "id": "Ik7yryDcPFtf",
        "outputId": "d869327e-e91d-4c5b-e26b-edc516659f9c",
        "cellView": "form"
      },
      "execution_count": null,
      "outputs": [
        {
          "output_type": "stream",
          "name": "stdout",
          "text": [
            "Kept 608 proteins\n",
            "Removed 434 proteins\n"
          ]
        }
      ]
    },
    {
      "cell_type": "code",
      "source": [
        "#@title 5a. Get BioProject UID for each BioProject accession\n",
        "def get_bioproject_uids(accessions):\n",
        "  bioproject_uid = {}\n",
        "  for accession in tqdm(accessions, desc='BioProject UID from Accession'):\n",
        "    if accession == None:\n",
        "      continue\n",
        "    if accession in bioproject_uid:\n",
        "      continue\n",
        "    entrez_handle = Entrez.esearch(term=accession, db=\"bioproject\", rettype=\"uilist\", retmode=\"xml\")\n",
        "    tree = etree.parse(entrez_handle)\n",
        "    bioproject_uid[accession] = tree.findtext('.//Id')\n",
        "  df_uids = pd.DataFrame.from_dict(bioproject_uid, orient='index', columns=['Project_Id'], dtype=str)\n",
        "  df_uids.index.rename('GBSeq_project', inplace=True)\n",
        "  df_uids = df_uids.replace({float('nan'): None})\n",
        "  return df_uids\n",
        "\n",
        "df_bioproject_uid = get_bioproject_uids(df_proteins_pruned['GBSeq_project'])\n",
        "# df_bioproject_uid.to_parquet(f'{datetime.today().strftime(\"%y%m%d\")}-bioproject_uid.parquet')"
      ],
      "metadata": {
        "colab": {
          "base_uri": "https://localhost:8080/"
        },
        "cellView": "form",
        "id": "Aj2U6Z3WQwW9",
        "outputId": "43c8f87c-06fb-4119-8554-76e932a90325"
      },
      "execution_count": null,
      "outputs": [
        {
          "output_type": "stream",
          "name": "stderr",
          "text": [
            "BioProject UID from Accession: 100%|██████████| 608/608 [01:08<00:00,  8.93it/s]\n"
          ]
        }
      ]
    },
    {
      "cell_type": "code",
      "source": [
        "#@title 5b. BioProject data for each BioProject UID\n",
        "def get_bioproject_data(uid_list):\n",
        "  bioprojects_data = {}\n",
        "  bioproject_tags = ['Project_Id','Project_Target_Scope','Project_Data_Type','Sequencing_Status','Project_Title','Project_Description']\n",
        "\n",
        "  for uid in tqdm(uid_list, desc='BioProject data from Esummary'):\n",
        "    if uid == None:\n",
        "      # print(f\"Protein {protein_data['Accession']} has no BioProject\")\n",
        "      continue\n",
        "    if uid in bioprojects_data:\n",
        "      continue\n",
        "\n",
        "    tree = esummary_from_id(uid, \"bioproject\")\n",
        "\n",
        "    uid_data = []\n",
        "    for tag in bioproject_tags:\n",
        "      uid_data.append(tree.findtext('.//' + tag))\n",
        "    bioprojects_data[uid] = uid_data\n",
        "    df = pd.DataFrame.from_dict(bioprojects_data, orient='index', columns=bioproject_tags)\n",
        "  return df\n",
        "    # print(tree_data)\n",
        "df_bioproject_data = get_bioproject_data(df_bioproject_uid['Project_Id'])\n",
        "# df_bioproject_data.to_parquet(f'{datetime.today().strftime(\"%y%m%d\")}-bioproject_data.parquet')"
      ],
      "metadata": {
        "colab": {
          "base_uri": "https://localhost:8080/"
        },
        "cellView": "form",
        "id": "Z_xIWalyYAIA",
        "outputId": "a2fc3272-333c-4878-c64c-061df8e6b35a"
      },
      "execution_count": null,
      "outputs": [
        {
          "output_type": "stream",
          "name": "stderr",
          "text": [
            "BioProject data from Esummary: 100%|██████████| 300/300 [00:00<00:00, 307.62it/s]\n"
          ]
        }
      ]
    },
    {
      "cell_type": "code",
      "source": [
        "#@title 5c. Merge BioProject UID, BioProject data, protein data, and BLAST\n",
        "df_proteins_and_bioprojects = df_blast.merge(df_proteins_pruned, how='right', on='Accession')\n",
        "df_proteins_and_bioprojects = df_proteins_and_bioprojects.merge(df_bioproject_uid, how='outer', on='GBSeq_project')\n",
        "df_proteins_and_bioprojects = df_proteins_and_bioprojects.merge(df_bioproject_data, how='outer', on='Project_Id')\n",
        "# df_proteins_and_bioprojects.to_parquet(f'{datetime.today().strftime(\"%y%m%d\")}-proteins_and_bioprojects.parquet')\n",
        "df_proteins_and_bioprojects.to_csv(f'{datetime.today().strftime(\"%y%m%d\")}-proteins_and_bioprojects.csv')"
      ],
      "metadata": {
        "cellView": "form",
        "id": "4zOxdVKteiY-"
      },
      "execution_count": null,
      "outputs": []
    },
    {
      "cell_type": "code",
      "source": [
        "#@title 6a. Find assembly data for all assemblies associated with a BioProject\n",
        "#@markdown Some BioProjects have >10,000 associated assemblies\n",
        "#@markdown (e.g. https://www.ncbi.nlm.nih.gov/bioproject/?term=657437), the\n",
        "#@markdown result of a huge amount of shotgun sequencing or similarly large\n",
        "#@markdown scale effort. This tells the script to look at only the first _x_.\n",
        "#@markdown (The final report will still tell you the total number of assemblies)\n",
        "\n",
        "max_assemblies_per_bioproject = 25 #@param {type:\"slider\", min:1, max:1000, step:1}\n",
        "\n",
        "def get_assembly_data(bioproject_ids):\n",
        "  # would it be worth getting N50 and L50 in here?\n",
        "  assembly_tags = [\"Genome coverage\", \"Sequencing technology\", \"Expected final version\"]\n",
        "  assembly_data = {}\n",
        "\n",
        "  for project_id in bioproject_ids:\n",
        "    assembly_ids = []\n",
        "    genome_coverage = []\n",
        "    sequencing_tech = []\n",
        "    expected_final = []\n",
        "    report_urls = []\n",
        "\n",
        "    # skip empty BioProjects\n",
        "    if project_id == None:\n",
        "      continue\n",
        "    if project_id in assembly_data:\n",
        "      continue\n",
        "    tree = elink_by_linkname(project_id, \"bioproject_assembly\")\n",
        "    try:\n",
        "      project_assemblies = tree.findall('.//Link/Id')\n",
        "    except:\n",
        "      print(datetime.now(), f\"BioProject {project_id} didn't link to any Assemblies\")\n",
        "      assembly_data[project_id] = None\n",
        "      continue\n",
        "    # print(datetime.now(), f\"Linked {len(project_assemblies)} assemblies to BioProject {bioproject_id}\")\n",
        "\n",
        "    # for each assembly, read the assembly report\n",
        "    # TO DO: Use epost for the assembly_ids?\n",
        "    for assembly_link in tqdm(project_assemblies[:max_assemblies_per_bioproject], desc=f\"Assembly data for BioProject {project_id}\"):\n",
        "      assembly_id = assembly_link.text\n",
        "      tree = esummary_from_id(assembly_id,db=\"assembly\")\n",
        "      try:\n",
        "        assembly_rpt_ftp = tree.findtext('.//FtpPath_Stats_rpt')\n",
        "      except:\n",
        "        print(datetime.now(), f\"No <FtpPath_Stats_rpt> tag in esummary for {assembly_id}\")\n",
        "        assembly_ids.append(assembly_id)\n",
        "        genome_coverage.append(None)\n",
        "        sequencing_tech.append(None)\n",
        "        expected_final.append(None)\n",
        "        report_urls.append(None)\n",
        "        continue\n",
        "      URL = assembly_rpt_ftp.replace(\"ftp://\",\"https://\")\n",
        "      assembly_rpt = get_assembly_rpt(URL, assembly_id)\n",
        "      # from the report, extract information\n",
        "      assembly_data_list = text_from_assembly_rpt(assembly_rpt, *assembly_tags)\n",
        "\n",
        "      # TO DO: just call the function for each tag in a for loop? something like:\n",
        "      # for tag in assembly_tags:\n",
        "      #   tag.append(text_from_assembly_rpt(assembly_rpt, tag))\n",
        "      # then separate the data\n",
        "      assembly_ids.append(assembly_id)\n",
        "      genome_coverage.append(assembly_data_list[\"Genome coverage\"])\n",
        "      sequencing_tech.append(assembly_data_list[\"Sequencing technology\"])\n",
        "      expected_final.append(assembly_data_list[\"Expected final version\"])\n",
        "      report_urls.append(URL)\n",
        "      # print(datetime.now(), f\"BioProject {bioproject_id}: Extracted Assembly data for {assembly_id}\")\n",
        "\n",
        "    # https://www.ncbi.nlm.nih.gov/bioproject/?term=724448 has no sequencing technology\n",
        "    # but it does have links to SRA experiments which do! Illumina and MinION\n",
        "    # Use this as a failsafe for if Assembly archive doesn't have it\n",
        "    if all(s == None for s in assembly_data_list[\"Sequencing technology\"]):\n",
        "      tree = elink_by_linkname(project_id, \"bioproject_sra\")\n",
        "      links = []\n",
        "      for l in tree.findall('.//Link/Id'):\n",
        "        links.append(l.text)\n",
        "      sequencing_tech = []\n",
        "      for l in links[:max_assemblies_per_bioproject]:\n",
        "        tree = esummary_from_id(l, \"sra\")\n",
        "        ExpXml = tree.findtext('.//ExpXml')\n",
        "        # regex: Anything between a > and </Platform> (spaces included)\n",
        "        sequencing_tech.append(re.findall(\"[^\\>]+(?=<\\/Platform>)\", ExpXml))\n",
        "\n",
        "    assembly_data[project_id] = [len(project_assemblies), assembly_ids, genome_coverage, sequencing_tech, expected_final, report_urls]\n",
        "    # clear_output()\n",
        "  # assembly_data_df = pd.DataFrame(assembly_data, columns=assembly_tags)\n",
        "  assembly_data_df = pd.DataFrame.from_dict(assembly_data, orient='index', columns=['assembly_count','assembly_ids','genome_coverage','sequencing_tech','expected_final_version','report_urls'])\n",
        "  assembly_data_df.index.rename('Project_Id', inplace=True)\n",
        "  return assembly_data_df\n",
        "\n",
        "df_assembly_data = get_assembly_data(df_bioproject_uid['Project_Id'].unique())\n",
        "# df_assembly_data.to_parquet(f'{datetime.today().strftime(\"%y%m%d\")}-assembly_data.parquet')\n",
        "# df_assembly_data.to_csv(f'{datetime.today().strftime(\"%y%m%d\")}-assembly_data.csv')"
      ],
      "metadata": {
        "colab": {
          "base_uri": "https://localhost:8080/"
        },
        "id": "Du8TGLHOfo1Z",
        "outputId": "49a5de99-efc7-4367-c3ce-68ecec3f6979",
        "cellView": "form"
      },
      "execution_count": null,
      "outputs": [
        {
          "output_type": "stream",
          "name": "stderr",
          "text": [
            "Assembly data for BioProject 514184: 100%|██████████| 1/1 [00:00<00:00, 145.10it/s]\n",
            "Assembly data for BioProject 678113: 100%|██████████| 12/12 [00:00<00:00, 262.10it/s]\n",
            "Assembly data for BioProject 439972: 100%|██████████| 1/1 [00:00<00:00, 235.45it/s]\n",
            "Assembly data for BioProject 746326: 100%|██████████| 7/7 [00:00<00:00, 307.81it/s]\n",
            "Assembly data for BioProject 719969: 100%|██████████| 2/2 [00:00<00:00, 235.69it/s]\n",
            "Assembly data for BioProject 642846: 100%|██████████| 2/2 [00:00<00:00, 173.92it/s]\n",
            "Assembly data for BioProject 202242: 100%|██████████| 1/1 [00:00<00:00, 119.11it/s]\n",
            "Assembly data for BioProject 602096: 100%|██████████| 1/1 [00:00<00:00, 98.96it/s]\n",
            "Assembly data for BioProject 394886: 100%|██████████| 1/1 [00:00<00:00, 176.13it/s]\n",
            "Assembly data for BioProject 389525: 100%|██████████| 1/1 [00:00<00:00, 185.93it/s]\n",
            "Assembly data for BioProject 60793: 100%|██████████| 1/1 [00:00<00:00, 187.83it/s]\n",
            "Assembly data for BioProject 384061: 100%|██████████| 1/1 [00:00<00:00, 147.03it/s]\n",
            "Assembly data for BioProject 287251: 100%|██████████| 1/1 [00:00<00:00, 160.38it/s]\n",
            "Assembly data for BioProject 463049: 100%|██████████| 1/1 [00:00<00:00, 52.62it/s]\n",
            "Assembly data for BioProject 349347: 100%|██████████| 1/1 [00:00<00:00, 249.72it/s]\n",
            "Assembly data for BioProject 394878: 100%|██████████| 1/1 [00:00<00:00, 108.88it/s]\n",
            "Assembly data for BioProject 312098: 100%|██████████| 5/5 [00:00<00:00, 226.58it/s]\n",
            "Assembly data for BioProject 382605: 100%|██████████| 1/1 [00:00<00:00, 175.82it/s]\n",
            "Assembly data for BioProject 322078: 100%|██████████| 1/1 [00:00<00:00, 140.26it/s]\n",
            "Assembly data for BioProject 322083: 100%|██████████| 1/1 [00:00<00:00, 188.98it/s]\n",
            "Assembly data for BioProject 895237: 100%|██████████| 1/1 [00:00<00:00, 109.52it/s]\n",
            "Assembly data for BioProject 376361: 100%|██████████| 1/1 [00:00<00:00, 126.91it/s]\n",
            "Assembly data for BioProject 394895: 100%|██████████| 1/1 [00:00<00:00, 162.51it/s]\n",
            "Assembly data for BioProject 439968: 100%|██████████| 1/1 [00:00<00:00, 159.75it/s]\n",
            "Assembly data for BioProject 439966: 100%|██████████| 1/1 [00:00<00:00, 186.82it/s]\n",
            "Assembly data for BioProject 227161: 100%|██████████| 1/1 [00:00<00:00, 182.16it/s]\n",
            "Assembly data for BioProject 394879: 100%|██████████| 1/1 [00:00<00:00, 150.20it/s]\n",
            "Assembly data for BioProject 871895: 100%|██████████| 2/2 [00:00<00:00, 163.58it/s]\n",
            "Assembly data for BioProject 74285: 100%|██████████| 1/1 [00:00<00:00, 127.22it/s]\n",
            "Assembly data for BioProject 439961: 100%|██████████| 1/1 [00:00<00:00, 136.62it/s]\n",
            "Assembly data for BioProject 227165: 100%|██████████| 1/1 [00:00<00:00, 129.98it/s]\n",
            "Assembly data for BioProject 296738: 100%|██████████| 1/1 [00:00<00:00, 102.90it/s]\n",
            "Assembly data for BioProject 728054: 100%|██████████| 20/20 [00:00<00:00, 246.83it/s]\n",
            "Assembly data for BioProject 345357: 100%|██████████| 25/25 [00:00<00:00, 307.25it/s]\n",
            "Assembly data for BioProject 296732: 100%|██████████| 1/1 [00:00<00:00, 62.68it/s]\n",
            "Assembly data for BioProject 295876: 100%|██████████| 1/1 [00:00<00:00, 291.47it/s]\n",
            "Assembly data for BioProject 296833: 100%|██████████| 1/1 [00:00<00:00, 293.90it/s]\n",
            "Assembly data for BioProject 295881: 100%|██████████| 1/1 [00:00<00:00, 292.84it/s]\n",
            "Assembly data for BioProject 750090: 100%|██████████| 25/25 [00:00<00:00, 268.47it/s]\n",
            "Assembly data for BioProject 575835: 100%|██████████| 1/1 [00:00<00:00, 147.85it/s]\n",
            "Assembly data for BioProject 587608: 100%|██████████| 25/25 [00:00<00:00, 285.02it/s]\n",
            "Assembly data for BioProject 435004: 100%|██████████| 9/9 [00:00<00:00, 305.42it/s]\n",
            "Assembly data for BioProject 211415: 100%|██████████| 1/1 [00:00<00:00, 152.72it/s]\n",
            "Assembly data for BioProject 287460: 100%|██████████| 25/25 [00:00<00:00, 323.40it/s]\n",
            "Assembly data for BioProject 211418: 100%|██████████| 1/1 [00:00<00:00, 149.09it/s]\n",
            "Assembly data for BioProject 211401: 100%|██████████| 1/1 [00:00<00:00, 161.33it/s]\n",
            "Assembly data for BioProject 323: 100%|██████████| 1/1 [00:00<00:00, 166.88it/s]\n",
            "Assembly data for BioProject 212371: 100%|██████████| 1/1 [00:00<00:00, 214.31it/s]\n",
            "Assembly data for BioProject 720386: 100%|██████████| 2/2 [00:00<00:00, 189.86it/s]\n",
            "Assembly data for BioProject 278487: 100%|██████████| 1/1 [00:00<00:00, 291.35it/s]\n",
            "Assembly data for BioProject 691121: 100%|██████████| 1/1 [00:00<00:00, 279.66it/s]\n",
            "Assembly data for BioProject 731657: 100%|██████████| 1/1 [00:00<00:00, 230.37it/s]\n",
            "Assembly data for BioProject 351371: 100%|██████████| 1/1 [00:00<00:00, 232.28it/s]\n",
            "Assembly data for BioProject 351398: 100%|██████████| 1/1 [00:00<00:00, 231.90it/s]\n",
            "Assembly data for BioProject 292453: 100%|██████████| 25/25 [00:00<00:00, 269.56it/s]\n",
            "Assembly data for BioProject 680595: 100%|██████████| 25/25 [00:00<00:00, 287.03it/s]\n",
            "Assembly data for BioProject 181198: 100%|██████████| 1/1 [00:00<00:00, 143.61it/s]\n",
            "Assembly data for BioProject 554978: 100%|██████████| 1/1 [00:00<00:00, 138.66it/s]\n",
            "Assembly data for BioProject 472857: 100%|██████████| 7/7 [00:00<00:00, 239.63it/s]\n",
            "Assembly data for BioProject 169521: 100%|██████████| 1/1 [00:00<00:00, 322.12it/s]\n",
            "Assembly data for BioProject 169408: 100%|██████████| 1/1 [00:00<00:00, 242.77it/s]\n",
            "Assembly data for BioProject 387592: 100%|██████████| 18/18 [00:00<00:00, 329.07it/s]\n",
            "Assembly data for BioProject 695743: 100%|██████████| 1/1 [00:00<00:00, 220.99it/s]\n",
            "Assembly data for BioProject 898853: 100%|██████████| 3/3 [00:00<00:00, 174.40it/s]\n",
            "Assembly data for BioProject 351565: 100%|██████████| 1/1 [00:00<00:00, 136.01it/s]\n",
            "Assembly data for BioProject 286951: 100%|██████████| 1/1 [00:00<00:00, 150.17it/s]\n",
            "Assembly data for BioProject 695738: 100%|██████████| 1/1 [00:00<00:00, 127.08it/s]\n",
            "Assembly data for BioProject 211606: 100%|██████████| 1/1 [00:00<00:00, 131.11it/s]\n",
            "Assembly data for BioProject 449945: 100%|██████████| 1/1 [00:00<00:00, 187.44it/s]\n",
            "Assembly data for BioProject 695737: 100%|██████████| 1/1 [00:00<00:00, 213.47it/s]\n",
            "Assembly data for BioProject 695748: 100%|██████████| 1/1 [00:00<00:00, 231.33it/s]\n",
            "Assembly data for BioProject 563568: 100%|██████████| 25/25 [00:00<00:00, 331.34it/s]\n",
            "Assembly data for BioProject 348270: 100%|██████████| 1/1 [00:00<00:00, 112.30it/s]\n",
            "Assembly data for BioProject 349844: 100%|██████████| 1/1 [00:00<00:00, 161.62it/s]\n",
            "Assembly data for BioProject 351684: 100%|██████████| 1/1 [00:00<00:00, 108.01it/s]\n",
            "Assembly data for BioProject 687493: 100%|██████████| 4/4 [00:00<00:00, 231.60it/s]\n",
            "Assembly data for BioProject 555029: 100%|██████████| 1/1 [00:00<00:00, 172.17it/s]\n",
            "Assembly data for BioProject 555018: 100%|██████████| 1/1 [00:00<00:00, 144.32it/s]\n",
            "Assembly data for BioProject 555019: 100%|██████████| 1/1 [00:00<00:00, 114.42it/s]\n",
            "Assembly data for BioProject 555021: 100%|██████████| 1/1 [00:00<00:00, 160.13it/s]\n",
            "Assembly data for BioProject 348214: 100%|██████████| 1/1 [00:00<00:00, 193.24it/s]\n",
            "Assembly data for BioProject 786963: 100%|██████████| 18/18 [00:00<00:00, 268.75it/s]\n",
            "Assembly data for BioProject 555195: 100%|██████████| 1/1 [00:00<00:00, 158.81it/s]\n",
            "Assembly data for BioProject 555031: 100%|██████████| 1/1 [00:00<00:00, 120.80it/s]\n",
            "Assembly data for BioProject 348957: 100%|██████████| 1/1 [00:00<00:00, 178.55it/s]\n",
            "Assembly data for BioProject 295883: 100%|██████████| 1/1 [00:00<00:00, 169.67it/s]\n",
            "Assembly data for BioProject 386853: 100%|██████████| 1/1 [00:00<00:00, 122.09it/s]\n",
            "Assembly data for BioProject 33213: 100%|██████████| 1/1 [00:00<00:00, 253.78it/s]\n",
            "Assembly data for BioProject 349331: 100%|██████████| 1/1 [00:00<00:00, 190.36it/s]\n",
            "Assembly data for BioProject 579470: 100%|██████████| 2/2 [00:00<00:00, 241.07it/s]\n",
            "Assembly data for BioProject 266479: 100%|██████████| 1/1 [00:00<00:00, 191.54it/s]\n",
            "Assembly data for BioProject 613155: 100%|██████████| 1/1 [00:00<00:00, 283.88it/s]\n",
            "Assembly data for BioProject 659733: 100%|██████████| 1/1 [00:00<00:00, 268.99it/s]\n",
            "Assembly data for BioProject 700779: 100%|██████████| 3/3 [00:00<00:00, 285.87it/s]\n",
            "Assembly data for BioProject 851082: 100%|██████████| 1/1 [00:00<00:00, 293.18it/s]\n",
            "Assembly data for BioProject 295884: 100%|██████████| 1/1 [00:00<00:00, 313.69it/s]\n",
            "Assembly data for BioProject 296731: 100%|██████████| 1/1 [00:00<00:00, 290.54it/s]\n",
            "Assembly data for BioProject 661162: 100%|██████████| 1/1 [00:00<00:00, 282.29it/s]\n",
            "Assembly data for BioProject 348668: 100%|██████████| 1/1 [00:00<00:00, 297.64it/s]\n",
            "Assembly data for BioProject 701181: 100%|██████████| 1/1 [00:00<00:00, 289.64it/s]\n",
            "Assembly data for BioProject 363088: 100%|██████████| 18/18 [00:00<00:00, 268.83it/s]\n",
            "Assembly data for BioProject 353194: 100%|██████████| 1/1 [00:00<00:00, 300.65it/s]\n",
            "Assembly data for BioProject 873915: 100%|██████████| 1/1 [00:00<00:00, 236.39it/s]\n",
            "Assembly data for BioProject 351495: 100%|██████████| 1/1 [00:00<00:00, 282.54it/s]\n",
            "Assembly data for BioProject 348857: 100%|██████████| 1/1 [00:00<00:00, 290.38it/s]\n",
            "Assembly data for BioProject 491792: 100%|██████████| 1/1 [00:00<00:00, 291.70it/s]\n",
            "Assembly data for BioProject 736824: 100%|██████████| 1/1 [00:00<00:00, 167.89it/s]\n",
            "Assembly data for BioProject 295867: 100%|██████████| 1/1 [00:00<00:00, 294.77it/s]\n",
            "Assembly data for BioProject 348995: 100%|██████████| 1/1 [00:00<00:00, 165.60it/s]\n",
            "Assembly data for BioProject 755448: 100%|██████████| 25/25 [00:00<00:00, 243.80it/s]\n",
            "Assembly data for BioProject 817822: 100%|██████████| 1/1 [00:00<00:00, 299.87it/s]\n",
            "Assembly data for BioProject 524303: 100%|██████████| 4/4 [00:00<00:00, 281.41it/s]\n",
            "Assembly data for BioProject 255825: 100%|██████████| 1/1 [00:00<00:00, 260.71it/s]\n",
            "Assembly data for BioProject 659743: 100%|██████████| 1/1 [00:00<00:00, 284.82it/s]\n",
            "Assembly data for BioProject 695742: 100%|██████████| 1/1 [00:00<00:00, 283.88it/s]\n",
            "Assembly data for BioProject 723583: 100%|██████████| 1/1 [00:00<00:00, 243.26it/s]\n",
            "Assembly data for BioProject 746064: 100%|██████████| 1/1 [00:00<00:00, 293.41it/s]\n",
            "Assembly data for BioProject 591322: 100%|██████████| 1/1 [00:00<00:00, 279.12it/s]\n",
            "Assembly data for BioProject 748252: 100%|██████████| 10/10 [00:00<00:00, 271.01it/s]\n",
            "Assembly data for BioProject 573004: 100%|██████████| 25/25 [00:00<00:00, 225.59it/s]\n",
            "Assembly data for BioProject 748696: 100%|██████████| 2/2 [00:00<00:00, 195.02it/s]\n",
            "Assembly data for BioProject 211409: 100%|██████████| 2/2 [00:00<00:00, 207.73it/s]\n",
            "Assembly data for BioProject 271728: 100%|██████████| 1/1 [00:00<00:00, 92.66it/s]\n",
            "Assembly data for BioProject 353805: 100%|██████████| 1/1 [00:00<00:00, 218.82it/s]\n",
            "Assembly data for BioProject 553980: 100%|██████████| 1/1 [00:00<00:00, 147.95it/s]\n",
            "Assembly data for BioProject 554828: 100%|██████████| 1/1 [00:00<00:00, 206.73it/s]\n",
            "Assembly data for BioProject 554793: 100%|██████████| 1/1 [00:00<00:00, 339.24it/s]\n",
            "Assembly data for BioProject 554984: 100%|██████████| 1/1 [00:00<00:00, 347.53it/s]\n",
            "Assembly data for BioProject 554790: 100%|██████████| 1/1 [00:00<00:00, 307.28it/s]\n",
            "Assembly data for BioProject 554988: 100%|██████████| 1/1 [00:00<00:00, 325.11it/s]\n",
            "Assembly data for BioProject 198196: 100%|██████████| 1/1 [00:00<00:00, 340.34it/s]\n",
            "Assembly data for BioProject 720632: 100%|██████████| 11/11 [00:00<00:00, 283.80it/s]\n",
            "Assembly data for BioProject 292952: 100%|██████████| 1/1 [00:00<00:00, 336.95it/s]\n",
            "Assembly data for BioProject 779265: 100%|██████████| 25/25 [00:00<00:00, 270.73it/s]\n",
            "Assembly data for BioProject 673289: 100%|██████████| 9/9 [00:00<00:00, 310.73it/s]\n",
            "Assembly data for BioProject 721405: 100%|██████████| 2/2 [00:00<00:00, 212.89it/s]\n",
            "Assembly data for BioProject 182302: 100%|██████████| 2/2 [00:00<00:00, 199.24it/s]\n",
            "Assembly data for BioProject 872558: 100%|██████████| 2/2 [00:00<00:00, 235.80it/s]\n",
            "Assembly data for BioProject 789891: 100%|██████████| 2/2 [00:00<00:00, 128.92it/s]\n",
            "Assembly data for BioProject 563169: 100%|██████████| 1/1 [00:00<00:00, 139.89it/s]\n",
            "Assembly data for BioProject 248137: 100%|██████████| 1/1 [00:00<00:00, 127.71it/s]\n",
            "Assembly data for BioProject 828552: 100%|██████████| 1/1 [00:00<00:00, 134.41it/s]\n",
            "Assembly data for BioProject 302486: 100%|██████████| 19/19 [00:00<00:00, 324.33it/s]\n",
            "Assembly data for BioProject 544277: 100%|██████████| 1/1 [00:00<00:00, 103.60it/s]\n",
            "Assembly data for BioProject 528834: 100%|██████████| 1/1 [00:00<00:00, 141.27it/s]\n",
            "Assembly data for BioProject 887338: 100%|██████████| 1/1 [00:00<00:00, 354.79it/s]\n",
            "Assembly data for BioProject 319549: 100%|██████████| 1/1 [00:00<00:00, 158.60it/s]\n",
            "Assembly data for BioProject 292954: 100%|██████████| 1/1 [00:00<00:00, 298.72it/s]\n",
            "Assembly data for BioProject 562936: 100%|██████████| 1/1 [00:00<00:00, 329.17it/s]\n",
            "Assembly data for BioProject 649510: 100%|██████████| 5/5 [00:00<00:00, 305.24it/s]\n",
            "Assembly data for BioProject 790934: 100%|██████████| 25/25 [00:00<00:00, 310.73it/s]\n",
            "Assembly data for BioProject 320790: 100%|██████████| 1/1 [00:00<00:00, 131.64it/s]\n",
            "Assembly data for BioProject 879781: 100%|██████████| 1/1 [00:00<00:00, 128.04it/s]\n",
            "Assembly data for BioProject 649214: 100%|██████████| 4/4 [00:00<00:00, 215.94it/s]\n",
            "Assembly data for BioProject 800170: 100%|██████████| 1/1 [00:00<00:00, 143.02it/s]\n",
            "Assembly data for BioProject 546657: 100%|██████████| 1/1 [00:00<00:00, 137.61it/s]\n",
            "Assembly data for BioProject 485146: 100%|██████████| 1/1 [00:00<00:00, 128.33it/s]\n",
            "Assembly data for BioProject 865934: 100%|██████████| 3/3 [00:00<00:00, 179.79it/s]\n",
            "Assembly data for BioProject 485152: 100%|██████████| 1/1 [00:00<00:00, 138.02it/s]\n",
            "Assembly data for BioProject 583337: 100%|██████████| 1/1 [00:00<00:00, 144.05it/s]\n",
            "Assembly data for BioProject 627971: 100%|██████████| 7/7 [00:00<00:00, 279.31it/s]\n",
            "Assembly data for BioProject 433211: 100%|██████████| 25/25 [00:00<00:00, 357.12it/s]\n",
            "Assembly data for BioProject 429483: 100%|██████████| 6/6 [00:00<00:00, 320.97it/s]\n",
            "Assembly data for BioProject 684363: 100%|██████████| 25/25 [00:00<00:00, 329.68it/s]\n",
            "Assembly data for BioProject 753676: 100%|██████████| 1/1 [00:00<00:00, 119.30it/s]\n",
            "Assembly data for BioProject 342848: 100%|██████████| 25/25 [00:00<00:00, 330.70it/s]\n",
            "Assembly data for BioProject 498595: 100%|██████████| 1/1 [00:00<00:00, 207.69it/s]\n",
            "Assembly data for BioProject 381535: 100%|██████████| 1/1 [00:00<00:00, 132.88it/s]\n",
            "Assembly data for BioProject 627556: 100%|██████████| 25/25 [00:00<00:00, 289.10it/s]\n",
            "Assembly data for BioProject 634457: 100%|██████████| 1/1 [00:00<00:00, 249.10it/s]\n",
            "Assembly data for BioProject 612806: 100%|██████████| 25/25 [00:00<00:00, 354.05it/s]\n",
            "Assembly data for BioProject 350783: 100%|██████████| 2/2 [00:00<00:00, 156.54it/s]\n",
            "Assembly data for BioProject 689676: 100%|██████████| 1/1 [00:00<00:00, 133.09it/s]\n",
            "Assembly data for BioProject 521297: 100%|██████████| 16/16 [00:00<00:00, 313.99it/s]\n",
            "Assembly data for BioProject 536252: 100%|██████████| 1/1 [00:00<00:00, 159.87it/s]\n",
            "Assembly data for BioProject 536248: 100%|██████████| 1/1 [00:00<00:00, 212.94it/s]\n",
            "Assembly data for BioProject 438874: 100%|██████████| 1/1 [00:00<00:00, 76.81it/s]\n",
            "Assembly data for BioProject 846756: 100%|██████████| 25/25 [00:00<00:00, 263.99it/s]\n",
            "Assembly data for BioProject 387712: 100%|██████████| 1/1 [00:00<00:00, 121.65it/s]\n",
            "Assembly data for BioProject 336188: 100%|██████████| 2/2 [00:00<00:00, 220.82it/s]\n",
            "Assembly data for BioProject 694560: 100%|██████████| 1/1 [00:00<00:00, 234.04it/s]\n",
            "Assembly data for BioProject 387713: 100%|██████████| 1/1 [00:00<00:00, 253.28it/s]\n",
            "Assembly data for BioProject 742925: 100%|██████████| 25/25 [00:00<00:00, 309.69it/s]\n",
            "Assembly data for BioProject 724448: 100%|██████████| 4/4 [00:00<00:00, 265.40it/s]\n",
            "Assembly data for BioProject 525349: 100%|██████████| 10/10 [00:00<00:00, 285.02it/s]\n",
            "Assembly data for BioProject 344031: 100%|██████████| 13/13 [00:00<00:00, 253.19it/s]\n",
            "Assembly data for BioProject 320159: 100%|██████████| 1/1 [00:00<00:00, 147.95it/s]\n",
            "Assembly data for BioProject 698195: 100%|██████████| 1/1 [00:00<00:00, 272.57it/s]\n",
            "Assembly data for BioProject 387714: 100%|██████████| 1/1 [00:00<00:00, 282.08it/s]\n",
            "Assembly data for BioProject 338629: 100%|██████████| 1/1 [00:00<00:00, 275.36it/s]\n",
            "Assembly data for BioProject 438828: 100%|██████████| 1/1 [00:00<00:00, 306.60it/s]\n",
            "Assembly data for BioProject 778148: 100%|██████████| 2/2 [00:00<00:00, 301.55it/s]\n",
            "Assembly data for BioProject 276589: 100%|██████████| 1/1 [00:00<00:00, 323.68it/s]\n",
            "Assembly data for BioProject 276590: 100%|██████████| 1/1 [00:00<00:00, 281.27it/s]\n",
            "Assembly data for BioProject 276592: 100%|██████████| 1/1 [00:00<00:00, 286.67it/s]\n",
            "Assembly data for BioProject 276591: 100%|██████████| 1/1 [00:00<00:00, 298.25it/s]\n",
            "Assembly data for BioProject 276595: 100%|██████████| 1/1 [00:00<00:00, 281.52it/s]\n",
            "Assembly data for BioProject 291479: 100%|██████████| 1/1 [00:00<00:00, 279.30it/s]\n",
            "Assembly data for BioProject 736725: 100%|██████████| 1/1 [00:00<00:00, 333.76it/s]\n",
            "Assembly data for BioProject 736723: 100%|██████████| 1/1 [00:00<00:00, 288.65it/s]\n",
            "Assembly data for BioProject 280784: 100%|██████████| 1/1 [00:00<00:00, 302.36it/s]\n",
            "Assembly data for BioProject 757316: 100%|██████████| 3/3 [00:00<00:00, 300.63it/s]\n",
            "Assembly data for BioProject 339506: 100%|██████████| 1/1 [00:00<00:00, 264.66it/s]\n",
            "Assembly data for BioProject 338526: 100%|██████████| 1/1 [00:00<00:00, 273.99it/s]\n",
            "Assembly data for BioProject 661460: 100%|██████████| 1/1 [00:00<00:00, 290.44it/s]\n",
            "Assembly data for BioProject 736573: 100%|██████████| 1/1 [00:00<00:00, 224.23it/s]\n",
            "Assembly data for BioProject 819403: 100%|██████████| 1/1 [00:00<00:00, 313.78it/s]\n",
            "Assembly data for BioProject 828153: 100%|██████████| 6/6 [00:00<00:00, 137.22it/s]\n",
            "Assembly data for BioProject 485129: 100%|██████████| 1/1 [00:00<00:00, 269.82it/s]\n",
            "Assembly data for BioProject 454507: 100%|██████████| 9/9 [00:00<00:00, 298.59it/s]\n",
            "Assembly data for BioProject 339365: 100%|██████████| 1/1 [00:00<00:00, 284.73it/s]\n",
            "Assembly data for BioProject 794208: 100%|██████████| 1/1 [00:00<00:00, 235.78it/s]\n",
            "Assembly data for BioProject 546817: 100%|██████████| 1/1 [00:00<00:00, 177.57it/s]\n",
            "Assembly data for BioProject 339346: 100%|██████████| 1/1 [00:00<00:00, 142.10it/s]\n",
            "Assembly data for BioProject 339347: 100%|██████████| 1/1 [00:00<00:00, 211.99it/s]\n",
            "Assembly data for BioProject 736035: 100%|██████████| 1/1 [00:00<00:00, 313.71it/s]\n",
            "Assembly data for BioProject 583340: 100%|██████████| 1/1 [00:00<00:00, 262.13it/s]\n",
            "Assembly data for BioProject 547343: 100%|██████████| 1/1 [00:00<00:00, 290.52it/s]\n",
            "Assembly data for BioProject 509257: 100%|██████████| 1/1 [00:00<00:00, 296.65it/s]\n",
            "Assembly data for BioProject 509270: 100%|██████████| 1/1 [00:00<00:00, 280.59it/s]\n",
            "Assembly data for BioProject 235281: 100%|██████████| 1/1 [00:00<00:00, 314.11it/s]\n",
            "Assembly data for BioProject 235282: 100%|██████████| 1/1 [00:00<00:00, 287.75it/s]\n",
            "Assembly data for BioProject 338520: 100%|██████████| 1/1 [00:00<00:00, 241.16it/s]\n",
            "Assembly data for BioProject 547325: 100%|██████████| 1/1 [00:00<00:00, 270.30it/s]\n",
            "Assembly data for BioProject 546810: 100%|██████████| 1/1 [00:00<00:00, 289.52it/s]\n",
            "Assembly data for BioProject 339360: 100%|██████████| 1/1 [00:00<00:00, 273.35it/s]\n",
            "Assembly data for BioProject 339359: 100%|██████████| 1/1 [00:00<00:00, 299.38it/s]\n",
            "Assembly data for BioProject 428711: 100%|██████████| 5/5 [00:00<00:00, 297.39it/s]\n",
            "Assembly data for BioProject 643763: 100%|██████████| 5/5 [00:00<00:00, 276.27it/s]\n",
            "Assembly data for BioProject 63187: 100%|██████████| 1/1 [00:00<00:00, 282.39it/s]\n",
            "Assembly data for BioProject 339376: 100%|██████████| 1/1 [00:00<00:00, 267.66it/s]\n",
            "Assembly data for BioProject 339348: 100%|██████████| 1/1 [00:00<00:00, 295.42it/s]\n",
            "Assembly data for BioProject 703876: 100%|██████████| 4/4 [00:00<00:00, 251.66it/s]\n",
            "Assembly data for BioProject 280982: 100%|██████████| 1/1 [00:00<00:00, 278.43it/s]\n",
            "Assembly data for BioProject 546660: 100%|██████████| 1/1 [00:00<00:00, 112.64it/s]\n",
            "Assembly data for BioProject 339362: 100%|██████████| 1/1 [00:00<00:00, 170.65it/s]\n",
            "Assembly data for BioProject 418711: 100%|██████████| 1/1 [00:00<00:00, 169.36it/s]\n",
            "Assembly data for BioProject 583334: 100%|██████████| 1/1 [00:00<00:00, 129.37it/s]\n",
            "Assembly data for BioProject 339344: 100%|██████████| 1/1 [00:00<00:00, 91.96it/s]\n",
            "Assembly data for BioProject 546665: 100%|██████████| 1/1 [00:00<00:00, 141.71it/s]\n",
            "Assembly data for BioProject 339351: 100%|██████████| 1/1 [00:00<00:00, 141.51it/s]\n",
            "Assembly data for BioProject 583350: 100%|██████████| 1/1 [00:00<00:00, 151.22it/s]\n",
            "Assembly data for BioProject 546658: 100%|██████████| 1/1 [00:00<00:00, 95.41it/s]\n",
            "Assembly data for BioProject 485151: 100%|██████████| 1/1 [00:00<00:00, 158.34it/s]\n",
            "Assembly data for BioProject 547330: 100%|██████████| 1/1 [00:00<00:00, 163.39it/s]\n",
            "Assembly data for BioProject 339357: 100%|██████████| 1/1 [00:00<00:00, 140.75it/s]\n",
            "Assembly data for BioProject 547342: 100%|██████████| 1/1 [00:00<00:00, 180.07it/s]\n",
            "Assembly data for BioProject 339350: 100%|██████████| 1/1 [00:00<00:00, 126.59it/s]\n",
            "Assembly data for BioProject 338524: 100%|██████████| 1/1 [00:00<00:00, 158.65it/s]\n",
            "Assembly data for BioProject 556104: 100%|██████████| 1/1 [00:00<00:00, 186.73it/s]\n",
            "Assembly data for BioProject 547323: 100%|██████████| 1/1 [00:00<00:00, 131.53it/s]\n",
            "Assembly data for BioProject 339342: 100%|██████████| 1/1 [00:00<00:00, 165.26it/s]\n",
            "Assembly data for BioProject 530964: 100%|██████████| 1/1 [00:00<00:00, 118.81it/s]\n",
            "Assembly data for BioProject 339216: 100%|██████████| 1/1 [00:00<00:00, 121.05it/s]\n",
            "Assembly data for BioProject 701249: 100%|██████████| 9/9 [00:00<00:00, 150.92it/s]\n",
            "Assembly data for BioProject 729255: 100%|██████████| 24/24 [00:00<00:00, 227.63it/s]\n",
            "Assembly data for BioProject 296: 100%|██████████| 1/1 [00:00<00:00, 138.96it/s]\n",
            "Assembly data for BioProject 15: 100%|██████████| 1/1 [00:00<00:00, 174.73it/s]\n",
            "Assembly data for BioProject 665156: 100%|██████████| 25/25 [00:00<00:00, 284.41it/s]\n",
            "Assembly data for BioProject 774128: 100%|██████████| 16/16 [00:00<00:00, 327.56it/s]\n",
            "Assembly data for BioProject 485808: 100%|██████████| 8/8 [00:00<00:00, 247.73it/s]\n",
            "Assembly data for BioProject 362578: 100%|██████████| 1/1 [00:00<00:00, 293.55it/s]\n",
            "Assembly data for BioProject 546659: 100%|██████████| 1/1 [00:00<00:00, 254.06it/s]\n",
            "Assembly data for BioProject 338618: 100%|██████████| 1/1 [00:00<00:00, 225.35it/s]\n",
            "Assembly data for BioProject 476292: 100%|██████████| 5/5 [00:00<00:00, 209.67it/s]\n",
            "Assembly data for BioProject 31357: 100%|██████████| 1/1 [00:00<00:00, 105.40it/s]\n",
            "Assembly data for BioProject 418695: 100%|██████████| 1/1 [00:00<00:00, 219.47it/s]\n",
            "Assembly data for BioProject 765326: 100%|██████████| 1/1 [00:00<00:00, 149.19it/s]\n",
            "Assembly data for BioProject 269236: 100%|██████████| 1/1 [00:00<00:00, 155.93it/s]\n",
            "Assembly data for BioProject 491790: 100%|██████████| 1/1 [00:00<00:00, 159.17it/s]\n",
            "Assembly data for BioProject 83441: 100%|██████████| 1/1 [00:00<00:00, 102.92it/s]\n",
            "Assembly data for BioProject 38647: 100%|██████████| 1/1 [00:00<00:00, 133.60it/s]\n",
            "Assembly data for BioProject 548434: 100%|██████████| 15/15 [00:00<00:00, 233.48it/s]\n",
            "Assembly data for BioProject 349429: 100%|██████████| 1/1 [00:00<00:00, 159.57it/s]\n",
            "Assembly data for BioProject 339353: 100%|██████████| 1/1 [00:00<00:00, 203.99it/s]\n",
            "Assembly data for BioProject 820724: 100%|██████████| 1/1 [00:00<00:00, 241.61it/s]\n",
            "Assembly data for BioProject 287068: 100%|██████████| 1/1 [00:00<00:00, 239.63it/s]\n",
            "Assembly data for BioProject 428890: 100%|██████████| 25/25 [00:00<00:00, 266.32it/s]\n",
            "Assembly data for BioProject 295885: 100%|██████████| 1/1 [00:00<00:00, 183.59it/s]\n",
            "Assembly data for BioProject 388575: 100%|██████████| 1/1 [00:00<00:00, 151.91it/s]\n",
            "Assembly data for BioProject 388634: 100%|██████████| 1/1 [00:00<00:00, 128.09it/s]\n",
            "Assembly data for BioProject 379352: 100%|██████████| 1/1 [00:00<00:00, 143.38it/s]\n",
            "Assembly data for BioProject 33205: 100%|██████████| 1/1 [00:00<00:00, 144.83it/s]\n",
            "Assembly data for BioProject 282427: 100%|██████████| 1/1 [00:00<00:00, 159.89it/s]\n",
            "Assembly data for BioProject 380232: 100%|██████████| 1/1 [00:00<00:00, 159.40it/s]\n",
            "Assembly data for BioProject 433083: 100%|██████████| 1/1 [00:00<00:00, 159.80it/s]\n",
            "Assembly data for BioProject 661174: 100%|██████████| 1/1 [00:00<00:00, 122.32it/s]\n",
            "Assembly data for BioProject 432746: 100%|██████████| 1/1 [00:00<00:00, 82.21it/s]\n",
            "Assembly data for BioProject 287078: 100%|██████████| 1/1 [00:00<00:00, 165.91it/s]\n",
            "Assembly data for BioProject 603636: 100%|██████████| 2/2 [00:00<00:00, 144.58it/s]\n",
            "Assembly data for BioProject 662889: 100%|██████████| 3/3 [00:00<00:00, 192.66it/s]\n",
            "Assembly data for BioProject 287071: 100%|██████████| 1/1 [00:00<00:00, 157.38it/s]\n",
            "Assembly data for BioProject 287065: 100%|██████████| 1/1 [00:00<00:00, 151.05it/s]\n",
            "Assembly data for BioProject 286818: 100%|██████████| 1/1 [00:00<00:00, 154.07it/s]\n",
            "Assembly data for BioProject 269489: 100%|██████████| 1/1 [00:00<00:00, 156.75it/s]\n",
            "Assembly data for BioProject 237250: 100%|██████████| 1/1 [00:00<00:00, 156.38it/s]\n",
            "Assembly data for BioProject 269445: 100%|██████████| 1/1 [00:00<00:00, 179.74it/s]\n",
            "Assembly data for BioProject 269459: 100%|██████████| 1/1 [00:00<00:00, 123.56it/s]\n",
            "Assembly data for BioProject 269472: 100%|██████████| 1/1 [00:00<00:00, 154.59it/s]\n",
            "Assembly data for BioProject 304675: 100%|██████████| 8/8 [00:00<00:00, 206.17it/s]\n"
          ]
        }
      ]
    },
    {
      "cell_type": "code",
      "source": [
        "#@title 6b. Merge assembly data with protein and BioProject data\n",
        "df_complete = df_proteins_and_bioprojects.merge(df_assembly_data, how='outer', on='Project_Id')\n",
        "df_complete.to_csv(f'{datetime.today().strftime(\"%y%m%d\")}-complete_blast.csv')"
      ],
      "metadata": {
        "cellView": "form",
        "id": "80eB90N-hToY"
      },
      "execution_count": null,
      "outputs": []
    },
    {
      "cell_type": "code",
      "source": [
        "#@title 6c. Limit sequences to long-read technology only\n",
        "df_complete = df_complete.astype({'sequencing_tech':str})\n",
        "df_longread = df_complete[df_complete['sequencing_tech'].str.contains(r\"Oxford|PacBio|ONT|Pacific\", na=False)]\n",
        "df_longread.to_csv(f'{datetime.today().strftime(\"%y%m%d\")}-complete_blast_longread.csv')\n",
        "\n",
        "df_unique = df_longread.drop_duplicates(subset=['Hit_num'])\n",
        "print(\"Number of unique sequences:\", len(df_unique))"
      ],
      "metadata": {
        "id": "17VJ6YBEHPek",
        "cellView": "form"
      },
      "execution_count": null,
      "outputs": []
    },
    {
      "cell_type": "code",
      "source": [
        " #@title 7a. List all WO-coils and R-coils\n",
        "df_unique = df_longread.drop_duplicates(subset=['Hit_num'])\n",
        "wo_coils = []\n",
        "for coils in df_unique['wo_coils']:\n",
        "  for coil in coils:\n",
        "    wo_coils.append(coil)\n",
        "with open(f'{datetime.today().strftime(\"%y%m%d\")}-wo_coils.txt', 'w') as out_handle:\n",
        "  out_handle.write('\\n'.join(wo_coils))\n",
        "\n",
        "r_coils = []\n",
        "for coils in df_unique['r_coils']:\n",
        "  for coil in coils:\n",
        "    r_coils.append(coil)\n",
        "with open(f'{datetime.today().strftime(\"%y%m%d\")}-r_coils.txt', 'w') as out_handle:\n",
        "  out_handle.write('\\n'.join(r_coils))"
      ],
      "metadata": {
        "id": "jo1Ef4DcpWcb",
        "cellView": "form"
      },
      "execution_count": null,
      "outputs": []
    },
    {
      "cell_type": "code",
      "source": [
        "!pip install logomaker\n",
        "# citation info: https://logomaker.readthedocs.io/en/latest/index.html"
      ],
      "metadata": {
        "id": "eg2CHMtOAZvc"
      },
      "execution_count": null,
      "outputs": []
    },
    {
      "cell_type": "markdown",
      "source": [
        "# 7a. Make logos"
      ],
      "metadata": {
        "id": "9KHup1GUuFkN"
      }
    },
    {
      "cell_type": "code",
      "source": [
        "import numpy as np\n",
        "import pandas as pd\n",
        "import matplotlib.pyplot as plt\n",
        "import logomaker as lm\n",
        "\n",
        "%matplotlib inline\n",
        "\n",
        "counts_mat = lm.alignment_to_matrix(wo_coils)\n",
        "info_mat = lm.transform_matrix(counts_mat,\n",
        "                                      from_type='counts',\n",
        "                                      to_type='information')\n",
        "\n",
        "fig, ax = plt.subplots(figsize=(8, 2.5))\n",
        "wo_logo = lm.Logo(info_mat,\n",
        "                  color_scheme='chemistry',\n",
        "                  ax=ax)\n",
        "wo_logo.style_glyphs({'A':'black',\n",
        "                      'C':'black',\n",
        "                      'D':'crimson',\n",
        "                      'E':'crimson',\n",
        "                      'F':'black',\n",
        "                      'G':'black',\n",
        "                      'H':'blue',\n",
        "                      'I':'black',\n",
        "                      'K':'blue',\n",
        "                      'L':'black',\n",
        "                      'M':'black',\n",
        "                      'N':'black',\n",
        "                      'P':'black',\n",
        "                      'Q':'black',\n",
        "                      'R':'blue',\n",
        "                      'S':'black',\n",
        "                      'T':'forestgreen',\n",
        "                      'V':'black',\n",
        "                      'W':'black',\n",
        "                      'Y':'gold'})\n",
        "ax.set_title(f'WO-coils (n={len(wo_coils)})')\n",
        "ax.set_ylabel(\"Information (bits)\")\n",
        "ax.set_xlabel(\"Position\")\n",
        "wo_logo.style_xticks(rotation=0, anchor=1)\n",
        "ax.set_xticklabels(range(1,17))\n",
        "fig.tight_layout()\n",
        "fig.savefig(f'{datetime.today().strftime(\"%y%m%d\")}-wo_coil_logo.svg')\n",
        "fig.savefig(f'{datetime.today().strftime(\"%y%m%d\")}-wo_coil_logo.png', dpi=300)"
      ],
      "metadata": {
        "colab": {
          "base_uri": "https://localhost:8080/",
          "height": 189
        },
        "id": "o07cprwFBKjV",
        "outputId": "808eff0e-f39c-426e-97d6-e6be6e7834e4"
      },
      "execution_count": null,
      "outputs": [
        {
          "output_type": "display_data",
          "data": {
            "text/plain": [
              "<Figure size 576x180 with 1 Axes>"
            ],
            "image/png": "[encoded data removed]"
          },
          "metadata": {
            "needs_background": "light"
          }
        }
      ]
    },
    {
      "cell_type": "code",
      "source": [
        "import numpy as np\n",
        "import pandas as pd\n",
        "import matplotlib.pyplot as plt\n",
        "import logomaker as lm\n",
        "\n",
        "%matplotlib inline\n",
        "\n",
        "counts_mat = lm.alignment_to_matrix(r_coils)\n",
        "info_mat = lm.transform_matrix(counts_mat,\n",
        "                                      from_type='counts',\n",
        "                                      to_type='information')\n",
        "\n",
        "fig1, ax1 = plt.subplots(figsize=(8, 2.5))\n",
        "r_logo = lm.Logo(info_mat,\n",
        "                  color_scheme='chemistry',\n",
        "                  ax=ax1)\n",
        "r_logo.style_glyphs({'A':'black',\n",
        "                      'C':'black',\n",
        "                      'D':'crimson',\n",
        "                      'E':'crimson',\n",
        "                      'F':'black',\n",
        "                      'G':'black',\n",
        "                      'H':'blue',\n",
        "                      'I':'black',\n",
        "                      'K':'blue',\n",
        "                      'L':'black',\n",
        "                      'M':'black',\n",
        "                      'N':'black',\n",
        "                      'P':'black',\n",
        "                      'Q':'black',\n",
        "                      'R':'blue',\n",
        "                      'S':'black',\n",
        "                      'T':'forestgreen',\n",
        "                      'V':'black',\n",
        "                      'W':'black',\n",
        "                      'Y':'gold'})\n",
        "ax1.set_title(f'R-coils (n={len(r_coils)})')\n",
        "ax1.set_ylabel(\"Information (bits)\")\n",
        "ax1.set_xlabel(\"Position\")\n",
        "r_logo.style_xticks(rotation=0, anchor=1)\n",
        "ax1.set_xticklabels(range(1,17))\n",
        "fig1.tight_layout()\n",
        "fig1.savefig(f'{datetime.today().strftime(\"%y%m%d\")}-r_coil_logo.svg')\n",
        "fig1.savefig(f'{datetime.today().strftime(\"%y%m%d\")}-r_coil_logo.png', dpi=300)"
      ],
      "metadata": {
        "colab": {
          "base_uri": "https://localhost:8080/",
          "height": 189
        },
        "id": "wL0yEVCXF6_E",
        "outputId": "ca1d978f-ffd8-4265-cac3-a566d8fffaf6"
      },
      "execution_count": null,
      "outputs": [
        {
          "output_type": "display_data",
          "data": {
            "text/plain": [
              "<Figure size 576x180 with 1 Axes>"
            ],
            "image/png": "[encoded data removed]"
          },
          "metadata": {
            "needs_background": "light"
          }
        }
      ]
    },
    {
      "cell_type": "code",
      "source": [
        "#@title 7b. For each sequence, count the number of WO- and R-coils\n",
        "plot_df = pd.DataFrame()\n",
        "plot_df['accession'] = df_unique['Accession']\n",
        "plot_df['wo_coils'] = df_unique['wo_coils'].map(len)\n",
        "plot_df['r_coils'] = df_unique['r_coils'].map(len)\n",
        "plot_df.index = range(len(plot_df.index))\n",
        "plot_df = plot_df.sort_values(['wo_coils','r_coils'], ascending=False)"
      ],
      "metadata": {
        "id": "ymMfSuTu1gqJ",
        "cellView": "form"
      },
      "execution_count": null,
      "outputs": []
    },
    {
      "cell_type": "code",
      "source": [
        "#@title 7b. Plot number of WO-coils vs R-coils\n",
        "fig, (ax1, ax2) = plt.subplots(1, 2)\n",
        "fig.set_size_inches(11, 5)\n",
        "\n",
        "ax1.bar(x=plot_df['accession'],\n",
        "        height=plot_df['wo_coils'],\n",
        "        width=1,\n",
        "        color=['darkgreen','green'])\n",
        "ax1.set_title('WO-coils')\n",
        "ax1.set_ylabel('Number of repeats')\n",
        "ax1.set_ylim(0,75)\n",
        "ax1.set_xlabel('Sequence')\n",
        "# ax1.set_xticks(range(0,len(plot_df['wo_coils']),10),\n",
        "#                range(1,len(plot_df['wo_coils']+1),10))\n",
        "#ax1.set_xticks(ax.get_xticks()[::10])\n",
        "#ax1.set_xticklabels(range(1,len(plot_df['wo_coils']+1)))\n",
        "\n",
        "ax2.bar(x=plot_df['accession'],\n",
        "        height=plot_df['r_coils'],\n",
        "        width=1,\n",
        "        color=['darkblue','mediumblue'])\n",
        "ax2.set_title('R-coils')\n",
        "ax2.set_ylabel('Number of repeats')\n",
        "ax2.set_ylim(0,75)\n",
        "ax2.set_xlabel('Sequence')\n",
        "\n",
        "tick_space = 20\n",
        "ax1.set_xticks(ax1.get_xticks()[::tick_space])\n",
        "ax1.set_xticklabels(range(0,len(plot_df['wo_coils']),tick_space))\n",
        "ax2.set_xticks(ax2.get_xticks()[::tick_space])\n",
        "ax2.set_xticklabels(range(0,len(plot_df['r_coils']),tick_space))\n",
        "\n",
        "fig.tight_layout()\n",
        "fig.savefig(f'{datetime.today().strftime(\"%y%m%d\")}-coil-count-compare.svg')\n",
        "fig.savefig(f'{datetime.today().strftime(\"%y%m%d\")}-coil-count-compare.png', dpi=300)"
      ],
      "metadata": {
        "colab": {
          "base_uri": "https://localhost:8080/",
          "height": 369
        },
        "id": "mixcGyajKvUu",
        "outputId": "a0eb8e01-ab1d-48ad-af5a-b9c5c2d6a1ea",
        "cellView": "form"
      },
      "execution_count": null,
      "outputs": [
        {
          "output_type": "display_data",
          "data": {
            "text/plain": [
              "<Figure size 792x360 with 2 Axes>"
            ],
            "image/png": "[encoded data removed]"
          },
          "metadata": {
            "needs_background": "light"
          }
        }
      ]
    },
    {
      "cell_type": "code",
      "source": [
        "plot_df[plot_df['r_coils'] <= 9]"
      ],
      "metadata": {
        "colab": {
          "base_uri": "https://localhost:8080/",
          "height": 457
        },
        "id": "W2kaBREdFgMb",
        "outputId": "6884162b-7043-4066-b1c3-f894dd1128ba"
      },
      "execution_count": null,
      "outputs": [
        {
          "output_type": "execute_result",
          "data": {
            "text/plain": [
              "        accession  wo_coils  r_coils\n",
              "90     QJI45388.1        66        8\n",
              "108    QWM98342.1        66        8\n",
              "60     UWF51541.1        56        9\n",
              "94     QZB00219.1        51        8\n",
              "68     UNM22147.1        50        9\n",
              "77     UKE52099.1        49        9\n",
              "95     QKG64268.1        47        8\n",
              "96     QQO01011.1        42        8\n",
              "34   MCF5793059.1        38        9\n",
              "35   MCF5690667.1        38        9\n",
              "36   MCF5815758.1        32        9\n",
              "118    AJQ84987.1         6        6\n",
              "119    AOS08195.1         6        6"
            ],
            "text/html": [
              "\n",
              "  <div id=\"df-8dc611a2-e021-43f0-ae5b-eb5043f80e1c\">\n",
              "    <div class=\"colab-df-container\">\n",
              "      <div>\n",
              "<style scoped>\n",
              "    .dataframe tbody tr th:only-of-type {\n",
              "        vertical-align: middle;\n",
              "    }\n",
              "\n",
              "    .dataframe tbody tr th {\n",
              "        vertical-align: top;\n",
              "    }\n",
              "\n",
              "    .dataframe thead th {\n",
              "        text-align: right;\n",
              "    }\n",
              "</style>\n",
              "<table border=\"1\" class=\"dataframe\">\n",
              "  <thead>\n",
              "    <tr style=\"text-align: right;\">\n",
              "      <th></th>\n",
              "      <th>accession</th>\n",
              "      <th>wo_coils</th>\n",
              "      <th>r_coils</th>\n",
              "    </tr>\n",
              "  </thead>\n",
              "  <tbody>\n",
              "    <tr>\n",
              "      <th>90</th>\n",
              "      <td>QJI45388.1</td>\n",
              "      <td>66</td>\n",
              "      <td>8</td>\n",
              "    </tr>\n",
              "    <tr>\n",
              "      <th>108</th>\n",
              "      <td>QWM98342.1</td>\n",
              "      <td>66</td>\n",
              "      <td>8</td>\n",
              "    </tr>\n",
              "    <tr>\n",
              "      <th>60</th>\n",
              "      <td>UWF51541.1</td>\n",
              "      <td>56</td>\n",
              "      <td>9</td>\n",
              "    </tr>\n",
              "    <tr>\n",
              "      <th>94</th>\n",
              "      <td>QZB00219.1</td>\n",
              "      <td>51</td>\n",
              "      <td>8</td>\n",
              "    </tr>\n",
              "    <tr>\n",
              "      <th>68</th>\n",
              "      <td>UNM22147.1</td>\n",
              "      <td>50</td>\n",
              "      <td>9</td>\n",
              "    </tr>\n",
              "    <tr>\n",
              "      <th>77</th>\n",
              "      <td>UKE52099.1</td>\n",
              "      <td>49</td>\n",
              "      <td>9</td>\n",
              "    </tr>\n",
              "    <tr>\n",
              "      <th>95</th>\n",
              "      <td>QKG64268.1</td>\n",
              "      <td>47</td>\n",
              "      <td>8</td>\n",
              "    </tr>\n",
              "    <tr>\n",
              "      <th>96</th>\n",
              "      <td>QQO01011.1</td>\n",
              "      <td>42</td>\n",
              "      <td>8</td>\n",
              "    </tr>\n",
              "    <tr>\n",
              "      <th>34</th>\n",
              "      <td>MCF5793059.1</td>\n",
              "      <td>38</td>\n",
              "      <td>9</td>\n",
              "    </tr>\n",
              "    <tr>\n",
              "      <th>35</th>\n",
              "      <td>MCF5690667.1</td>\n",
              "      <td>38</td>\n",
              "      <td>9</td>\n",
              "    </tr>\n",
              "    <tr>\n",
              "      <th>36</th>\n",
              "      <td>MCF5815758.1</td>\n",
              "      <td>32</td>\n",
              "      <td>9</td>\n",
              "    </tr>\n",
              "    <tr>\n",
              "      <th>118</th>\n",
              "      <td>AJQ84987.1</td>\n",
              "      <td>6</td>\n",
              "      <td>6</td>\n",
              "    </tr>\n",
              "    <tr>\n",
              "      <th>119</th>\n",
              "      <td>AOS08195.1</td>\n",
              "      <td>6</td>\n",
              "      <td>6</td>\n",
              "    </tr>\n",
              "  </tbody>\n",
              "</table>\n",
              "</div>\n",
              "      <button class=\"colab-df-convert\" onclick=\"convertToInteractive('df-8dc611a2-e021-43f0-ae5b-eb5043f80e1c')\"\n",
              "              title=\"Convert this dataframe to an interactive table.\"\n",
              "              style=\"display:none;\">\n",
              "        \n",
              "  <svg xmlns=\"http://www.w3.org/2000/svg\" height=\"24px\"viewBox=\"0 0 24 24\"\n",
              "       width=\"24px\">\n",
              "    <path d=\"M0 0h24v24H0V0z\" fill=\"none\"/>\n",
              "    <path d=\"M18.56 5.44l.94 2.06.94-2.06 2.06-.94-2.06-.94-.94-2.06-.94 2.06-2.06.94zm-11 1L8.5 8.5l.94-2.06 2.06-.94-2.06-.94L8.5 2.5l-.94 2.06-2.06.94zm10 10l.94 2.06.94-2.06 2.06-.94-2.06-.94-.94-2.06-.94 2.06-2.06.94z\"/><path d=\"M17.41 7.96l-1.37-1.37c-.4-.4-.92-.59-1.43-.59-.52 0-1.04.2-1.43.59L10.3 9.45l-7.72 7.72c-.78.78-.78 2.05 0 2.83L4 21.41c.39.39.9.59 1.41.59.51 0 1.02-.2 1.41-.59l7.78-7.78 2.81-2.81c.8-.78.8-2.07 0-2.86zM5.41 20L4 18.59l7.72-7.72 1.47 1.35L5.41 20z\"/>\n",
              "  </svg>\n",
              "      </button>\n",
              "      \n",
              "  <style>\n",
              "    .colab-df-container {\n",
              "      display:flex;\n",
              "      flex-wrap:wrap;\n",
              "      gap: 12px;\n",
              "    }\n",
              "\n",
              "    .colab-df-convert {\n",
              "      background-color: #E8F0FE;\n",
              "      border: none;\n",
              "      border-radius: 50%;\n",
              "      cursor: pointer;\n",
              "      display: none;\n",
              "      fill: #1967D2;\n",
              "      height: 32px;\n",
              "      padding: 0 0 0 0;\n",
              "      width: 32px;\n",
              "    }\n",
              "\n",
              "    .colab-df-convert:hover {\n",
              "      background-color: #E2EBFA;\n",
              "      box-shadow: 0px 1px 2px rgba(60, 64, 67, 0.3), 0px 1px 3px 1px rgba(60, 64, 67, 0.15);\n",
              "      fill: #174EA6;\n",
              "    }\n",
              "\n",
              "    [theme=dark] .colab-df-convert {\n",
              "      background-color: #3B4455;\n",
              "      fill: #D2E3FC;\n",
              "    }\n",
              "\n",
              "    [theme=dark] .colab-df-convert:hover {\n",
              "      background-color: #434B5C;\n",
              "      box-shadow: 0px 1px 3px 1px rgba(0, 0, 0, 0.15);\n",
              "      filter: drop-shadow(0px 1px 2px rgba(0, 0, 0, 0.3));\n",
              "      fill: #FFFFFF;\n",
              "    }\n",
              "  </style>\n",
              "\n",
              "      <script>\n",
              "        const buttonEl =\n",
              "          document.querySelector('#df-8dc611a2-e021-43f0-ae5b-eb5043f80e1c button.colab-df-convert');\n",
              "        buttonEl.style.display =\n",
              "          google.colab.kernel.accessAllowed ? 'block' : 'none';\n",
              "\n",
              "        async function convertToInteractive(key) {\n",
              "          const element = document.querySelector('#df-8dc611a2-e021-43f0-ae5b-eb5043f80e1c');\n",
              "          const dataTable =\n",
              "            await google.colab.kernel.invokeFunction('convertToInteractive',\n",
              "                                                     [key], {});\n",
              "          if (!dataTable) return;\n",
              "\n",
              "          const docLinkHtml = 'Like what you see? Visit the ' +\n",
              "            '<a target=\"_blank\" href=https://colab.research.google.com/notebooks/data_table.ipynb>data table notebook</a>'\n",
              "            + ' to learn more about interactive tables.';\n",
              "          element.innerHTML = '';\n",
              "          dataTable['output_type'] = 'display_data';\n",
              "          await google.colab.output.renderOutput(dataTable, element);\n",
              "          const docLink = document.createElement('div');\n",
              "          docLink.innerHTML = docLinkHtml;\n",
              "          element.appendChild(docLink);\n",
              "        }\n",
              "      </script>\n",
              "    </div>\n",
              "  </div>\n",
              "  "
            ]
          },
          "metadata": {},
          "execution_count": 162
        }
      ]
    },
    {
      "cell_type": "markdown",
      "source": [
        "# Scratch code"
      ],
      "metadata": {
        "id": "EGZNwrwt31xw"
      }
    },
    {
      "cell_type": "markdown",
      "source": [
        "## Orchard samples"
      ],
      "metadata": {
        "id": "u1aG3l8EEqcW"
      }
    },
    {
      "cell_type": "code",
      "source": [
        "import pandas as pd\n",
        "df = pd.read_csv('230216-complete_blast_longread.csv', index_col=False)\n",
        "\n",
        "from ast import literal_eval\n",
        "df['wo_coils'] = df['wo_coils'].apply(lambda x: literal_eval(x))\n",
        "df['r_coils'] = df['r_coils'].apply(lambda x: literal_eval(x))"
      ],
      "metadata": {
        "id": "_AImunm4gbs9"
      },
      "execution_count": null,
      "outputs": []
    },
    {
      "cell_type": "code",
      "source": [
        "df_ps = df[(df['Project_Id'] == 587608) & (df['GBSeq_organism'].str.contains('syringae'))]"
      ],
      "metadata": {
        "id": "8YqnezPAZM-_"
      },
      "execution_count": null,
      "outputs": []
    },
    {
      "cell_type": "code",
      "source": [
        "df[df['Project_Id'] == 587608].shape"
      ],
      "metadata": {
        "colab": {
          "base_uri": "https://localhost:8080/"
        },
        "id": "98CgcBnacJKQ",
        "outputId": "311655a8-0a3d-417d-8ab7-d6f18fbf861a"
      },
      "execution_count": null,
      "outputs": [
        {
          "output_type": "execute_result",
          "data": {
            "text/plain": [
              "(34, 28)"
            ]
          },
          "metadata": {},
          "execution_count": 14
        }
      ]
    },
    {
      "cell_type": "code",
      "source": [
        "df[df['Project_Id'] == 587608].GBSeq_organism"
      ],
      "metadata": {
        "colab": {
          "base_uri": "https://localhost:8080/"
        },
        "id": "QYMh3GE1Z5mD",
        "outputId": "5c0f6b0c-6e7a-4059-d6d3-dc50d3cac254"
      },
      "execution_count": null,
      "outputs": [
        {
          "output_type": "execute_result",
          "data": {
            "text/plain": [
              "32       Pseudomonas syringae\n",
              "33       Pseudomonas syringae\n",
              "34       Pseudomonas syringae\n",
              "35       Pseudomonas syringae\n",
              "36       Pseudomonas syringae\n",
              "37       Pseudomonas syringae\n",
              "38       Pseudomonas syringae\n",
              "39       Pseudomonas syringae\n",
              "40       Pseudomonas syringae\n",
              "41       Pseudomonas syringae\n",
              "42       Pseudomonas syringae\n",
              "43       Pseudomonas syringae\n",
              "44         Pseudomonas tremae\n",
              "45         Pseudomonas tremae\n",
              "46         Pseudomonas tremae\n",
              "47         Pseudomonas tremae\n",
              "48       Pseudomonas syringae\n",
              "49       Pseudomonas syringae\n",
              "50       Pseudomonas syringae\n",
              "51    Pseudomonas sp. PA-1-6B\n",
              "52    Pseudomonas sp. PA-1-8C\n",
              "53    Pseudomonas sp. PA-1-2A\n",
              "54         Pseudomonas carnis\n",
              "55         Pseudomonas tremae\n",
              "56       Pseudomonas syringae\n",
              "57       Pseudomonas syringae\n",
              "58       Pseudomonas syringae\n",
              "59       Pseudomonas syringae\n",
              "60       Pseudomonas syringae\n",
              "61       Pseudomonas syringae\n",
              "62       Pseudomonas syringae\n",
              "63       Pseudomonas syringae\n",
              "64       Pseudomonas syringae\n",
              "65       Pseudomonas syringae\n",
              "Name: GBSeq_organism, dtype: object"
            ]
          },
          "metadata": {},
          "execution_count": 15
        }
      ]
    },
    {
      "cell_type": "code",
      "source": [
        "df_ps.wo_coils.map(len)"
      ],
      "metadata": {
        "colab": {
          "base_uri": "https://localhost:8080/"
        },
        "id": "00eB2DemGUYo",
        "outputId": "8fa35b86-c7da-4372-9db6-8098c33e4544"
      },
      "execution_count": null,
      "outputs": [
        {
          "output_type": "execute_result",
          "data": {
            "text/plain": [
              "32    57\n",
              "33    57\n",
              "34    57\n",
              "35    57\n",
              "36    57\n",
              "37    57\n",
              "38    48\n",
              "39    48\n",
              "40    48\n",
              "41    48\n",
              "42    48\n",
              "43    48\n",
              "48    45\n",
              "49    42\n",
              "50    42\n",
              "56    51\n",
              "57    48\n",
              "58    45\n",
              "59    45\n",
              "60    45\n",
              "61    45\n",
              "62    45\n",
              "63    45\n",
              "64    42\n",
              "65    33\n",
              "Name: wo_coils, dtype: int64"
            ]
          },
          "metadata": {},
          "execution_count": 24
        }
      ]
    },
    {
      "cell_type": "code",
      "source": [
        "df_ps.r_coils.map(len)"
      ],
      "metadata": {
        "colab": {
          "base_uri": "https://localhost:8080/"
        },
        "id": "BbKo-FWYYpnc",
        "outputId": "3f37c47c-bc53-4659-9fe2-2a0d7f40e7c3"
      },
      "execution_count": null,
      "outputs": [
        {
          "output_type": "execute_result",
          "data": {
            "text/plain": [
              "32    12\n",
              "33    12\n",
              "34    12\n",
              "35    12\n",
              "36    12\n",
              "37    12\n",
              "38    12\n",
              "39    12\n",
              "40    12\n",
              "41    12\n",
              "42    12\n",
              "43    12\n",
              "48    12\n",
              "49    12\n",
              "50    12\n",
              "56    12\n",
              "57    12\n",
              "58    12\n",
              "59    12\n",
              "60    12\n",
              "61    12\n",
              "62    12\n",
              "63    12\n",
              "64    12\n",
              "65    12\n",
              "Name: r_coils, dtype: int64"
            ]
          },
          "metadata": {},
          "execution_count": 19
        }
      ]
    },
    {
      "cell_type": "code",
      "source": [
        "import matplotlib.pyplot as plt\n",
        "fig, ax = plt.subplots()\n",
        "ax.hist(df_ps.wo_coils.map(len), bins=27, range=(33,60))\n",
        "ax.set_ylabel('Number of sequences')\n",
        "ax.set_xlabel('Number of WO-coils')"
      ],
      "metadata": {
        "colab": {
          "base_uri": "https://localhost:8080/",
          "height": 297
        },
        "id": "kikMgLbZY3Pn",
        "outputId": "f33afd20-aa60-48a4-d8bf-c55af2e1b69d"
      },
      "execution_count": null,
      "outputs": [
        {
          "output_type": "execute_result",
          "data": {
            "text/plain": [
              "Text(0.5, 0, 'Number of WO-coils')"
            ]
          },
          "metadata": {},
          "execution_count": 29
        },
        {
          "output_type": "display_data",
          "data": {
            "text/plain": [
              "<Figure size 432x288 with 1 Axes>"
            ],
            "image/png": "[encoded data removed]"
          },
          "metadata": {
            "needs_background": "light"
          }
        }
      ]
    },
    {
      "cell_type": "code",
      "source": [
        "fig, (ax1, ax2) = plt.subplots(1, 2)\n",
        "fig.set_size_inches(10,4)\n",
        "ax1.bar(x=range(len(df_ps)),\n",
        "        width=0.75,\n",
        "        color='green',\n",
        "        height=df_ps.wo_coils.map(len))\n",
        "ax2.bar(x=range(len(df_ps)),\n",
        "        width=0.75,\n",
        "        color='blue',\n",
        "        height=df_ps.r_coils.map(len))\n",
        "ax1.set_ylim(0,60)\n",
        "ax2.set_ylim(0,60)\n",
        "ax1.set_ylabel('Number of coils')\n",
        "ax2.set_ylabel('Number of coils')\n",
        "ax1.set_title('WO-coils')\n",
        "ax2.set_title('WO-coils')\n",
        "fig.tight_layout()"
      ],
      "metadata": {
        "colab": {
          "base_uri": "https://localhost:8080/",
          "height": 297
        },
        "id": "fZLf4RpHHGD2",
        "outputId": "1c313983-c979-4bf2-b139-4cad3eab957a"
      },
      "execution_count": null,
      "outputs": [
        {
          "output_type": "display_data",
          "data": {
            "text/plain": [
              "<Figure size 720x288 with 2 Axes>"
            ],
            "image/png": "[encoded data removed]"
          },
          "metadata": {
            "needs_background": "light"
          }
        }
      ]
    },
    {
      "cell_type": "markdown",
      "source": [
        "# Seq logo for Cterm"
      ],
      "metadata": {
        "id": "ASt0JcpXolSb"
      }
    },
    {
      "cell_type": "code",
      "source": [
        "!pip install logomaker"
      ],
      "metadata": {
        "colab": {
          "base_uri": "https://localhost:8080/"
        },
        "id": "YgwFHKI8qfNu",
        "outputId": "fc0f941b-c868-468d-ef4c-ecf9fe8f1aa7"
      },
      "execution_count": null,
      "outputs": [
        {
          "output_type": "stream",
          "name": "stdout",
          "text": [
            "Looking in indexes: https://pypi.org/simple, https://us-python.pkg.dev/colab-wheels/public/simple/\n",
            "Collecting logomaker\n",
            "  Downloading logomaker-0.8-py2.py3-none-any.whl (11.8 MB)\n",
            "\u001b[2K     \u001b[90m━━━━━━━━━━━━━━━━━━━━━━━━━━━━━━━━━━━━━━━━\u001b[0m \u001b[32m11.8/11.8 MB\u001b[0m \u001b[31m38.8 MB/s\u001b[0m eta \u001b[36m0:00:00\u001b[0m\n",
            "\u001b[?25hRequirement already satisfied: numpy in /usr/local/lib/python3.8/dist-packages (from logomaker) (1.22.4)\n",
            "Requirement already satisfied: pandas in /usr/local/lib/python3.8/dist-packages (from logomaker) (1.3.5)\n",
            "Requirement already satisfied: matplotlib in /usr/local/lib/python3.8/dist-packages (from logomaker) (3.5.3)\n",
            "Requirement already satisfied: fonttools>=4.22.0 in /usr/local/lib/python3.8/dist-packages (from matplotlib->logomaker) (4.38.0)\n",
            "Requirement already satisfied: packaging>=20.0 in /usr/local/lib/python3.8/dist-packages (from matplotlib->logomaker) (23.0)\n",
            "Requirement already satisfied: kiwisolver>=1.0.1 in /usr/local/lib/python3.8/dist-packages (from matplotlib->logomaker) (1.4.4)\n",
            "Requirement already satisfied: pyparsing>=2.2.1 in /usr/local/lib/python3.8/dist-packages (from matplotlib->logomaker) (3.0.9)\n",
            "Requirement already satisfied: cycler>=0.10 in /usr/local/lib/python3.8/dist-packages (from matplotlib->logomaker) (0.11.0)\n",
            "Requirement already satisfied: python-dateutil>=2.7 in /usr/local/lib/python3.8/dist-packages (from matplotlib->logomaker) (2.8.2)\n",
            "Requirement already satisfied: pillow>=6.2.0 in /usr/local/lib/python3.8/dist-packages (from matplotlib->logomaker) (8.4.0)\n",
            "Requirement already satisfied: pytz>=2017.3 in /usr/local/lib/python3.8/dist-packages (from pandas->logomaker) (2022.7.1)\n",
            "Requirement already satisfied: six>=1.5 in /usr/local/lib/python3.8/dist-packages (from python-dateutil>=2.7->matplotlib->logomaker) (1.15.0)\n",
            "Installing collected packages: logomaker\n",
            "Successfully installed logomaker-0.8\n"
          ]
        }
      ]
    },
    {
      "cell_type": "code",
      "source": [
        "import numpy as np\n",
        "import pandas as pd\n",
        "import matplotlib.pyplot as plt\n",
        "import logomaker as lm\n",
        "\n",
        "%matplotlib inline\n",
        "\n",
        "cterms_aligned = []\n",
        "seq = ''\n",
        "with open('230303-clustal_cterm_aligned.txt') as input_handle:\n",
        "    for line in input_handle.readlines():\n",
        "        cterms_aligned.append(line)\n",
        "\n",
        "# ser = pd.Series(cterms_aligned)\n",
        "counts_mat = lm.alignment_to_matrix(sequences=cterms_aligned, to_type='counts', characters_to_ignore='.-Xx')\n",
        "prob_mat = lm.transform_matrix(counts_mat,\n",
        "                                from_type='counts',\n",
        "                                to_type='probability')\n",
        "# info_mat = lm.transform_matrix(counts_mat,\n",
        "#                                 from_type='counts',\n",
        "#                                 to_type='information')\n",
        "\n",
        "fig, ax = plt.subplots(figsize=(15, 2.5))\n",
        "wo_logo = lm.Logo(prob_mat,\n",
        "                  color_scheme='chemistry',\n",
        "                  ax=ax)\n",
        "wo_logo.style_glyphs({'A':'black',\n",
        "                      'C':'black',\n",
        "                      'D':'crimson',\n",
        "                      'E':'crimson',\n",
        "                      'F':'black',\n",
        "                      'G':'black',\n",
        "                      'H':'blue',\n",
        "                      'I':'black',\n",
        "                      'K':'blue',\n",
        "                      'L':'black',\n",
        "                      'M':'black',\n",
        "                      'N':'black',\n",
        "                      'P':'black',\n",
        "                      'Q':'black',\n",
        "                      'R':'blue',\n",
        "                      'S':'black',\n",
        "                      'T':'forestgreen',\n",
        "                      'V':'black',\n",
        "                      'W':'black',\n",
        "                      'Y':'gold'})\n",
        "# ax.set_title(f'WO-coils (n={len(wo_coils)})')\n",
        "# ax.set_ylabel(\"Information (bits)\")\n",
        "# ax.set_xlabel(\"Position\")\n",
        "# wo_logo.style_xticks(rotation=0, anchor=1)\n",
        "# ax.set_xticklabels(range(1,73))\n",
        "# fig.tight_layout()\n",
        "# fig.savefig(f'{datetime.today().strftime(\"%y%m%d\")}-wo_coil_logo.svg')\n",
        "# fig.savefig(f'{datetime.today().strftime(\"%y%m%d\")}-wo_coil_logo.png', dpi=300)"
      ],
      "metadata": {
        "id": "CO8vKYlbH1ls",
        "colab": {
          "base_uri": "https://localhost:8080/",
          "height": 259
        },
        "outputId": "b43c17ca-ded1-47c6-f2b2-453454225255"
      },
      "execution_count": null,
      "outputs": [
        {
          "output_type": "stream",
          "name": "stdout",
          "text": [
            " Warning: Character '\n",
            "' is not in color_dict. Using black.\n",
            " Warning: Character '\n",
            "' is not in color_dict. Using black.\n"
          ]
        },
        {
          "output_type": "display_data",
          "data": {
            "text/plain": [
              "<Figure size 1080x180 with 1 Axes>"
            ],
            "image/png": "[encoded data removed]"
          },
          "metadata": {
            "needs_background": "light"
          }
        }
      ]
    },
    {
      "cell_type": "code",
      "source": [],
      "metadata": {
        "id": "QC3iv5onqkZh"
      },
      "execution_count": null,
      "outputs": []
    }
  ]
}